{
 "cells": [
  {
   "cell_type": "code",
   "execution_count": 1,
   "metadata": {},
   "outputs": [],
   "source": [
    "from scipy.stats import binom"
   ]
  },
  {
   "cell_type": "code",
   "execution_count": 2,
   "metadata": {},
   "outputs": [],
   "source": [
    "from scipy.special import factorial\n",
    "from fractions import Fraction # 정확하게 하기 위해서 쓴다.\n",
    "import itertools"
   ]
  },
  {
   "cell_type": "code",
   "execution_count": 3,
   "metadata": {},
   "outputs": [],
   "source": [
    "# binom -> 분포\n",
    "# 동전의 앞면이 3번 나올 (1/2 * 1/2 * 1/2)\n",
    "# nCr * P^r * (-p)^n-r => 이항분포"
   ]
  },
  {
   "cell_type": "code",
   "execution_count": 4,
   "metadata": {},
   "outputs": [
    {
     "data": {
      "text/plain": [
       "1.0"
      ]
     },
     "execution_count": 4,
     "metadata": {},
     "output_type": "execute_result"
    }
   ],
   "source": [
    "(1/3) + (1/3) + (1/3)"
   ]
  },
  {
   "cell_type": "code",
   "execution_count": 5,
   "metadata": {},
   "outputs": [
    {
     "data": {
      "text/plain": [
       "0.30000000000000004"
      ]
     },
     "execution_count": 5,
     "metadata": {},
     "output_type": "execute_result"
    }
   ],
   "source": [
    "0.1 + 0.1 + 0.1 # 값이 정확하지 않다. "
   ]
  },
  {
   "cell_type": "code",
   "execution_count": 6,
   "metadata": {},
   "outputs": [],
   "source": [
    "def P(event, space): \n",
    "    \"The probability of an event, given a sample space of equiprobable outcomes.\"\n",
    "    return Fraction(len(event & space), \n",
    "                    len(space))"
   ]
  },
  {
   "cell_type": "code",
   "execution_count": 7,
   "metadata": {},
   "outputs": [
    {
     "data": {
      "text/plain": [
       "Fraction(1, 2)"
      ]
     },
     "execution_count": 7,
     "metadata": {},
     "output_type": "execute_result"
    }
   ],
   "source": [
    "D    = {1, 2, 3, 4, 5, 6}\n",
    "even = {   2,    4,    6}\n",
    "\n",
    "P(even, D)"
   ]
  },
  {
   "cell_type": "code",
   "execution_count": 10,
   "metadata": {},
   "outputs": [
    {
     "data": {
      "text/plain": [
       "Fraction(1, 2)"
      ]
     },
     "execution_count": 10,
     "metadata": {},
     "output_type": "execute_result"
    }
   ],
   "source": [
    "even = {2, 4, 6, 8, 10, 12}\n",
    "\n",
    "P(even, D)"
   ]
  },
  {
   "cell_type": "code",
   "execution_count": 11,
   "metadata": {},
   "outputs": [],
   "source": [
    "a = {1,2,3}"
   ]
  },
  {
   "cell_type": "code",
   "execution_count": 12,
   "metadata": {},
   "outputs": [],
   "source": [
    "b = {1}"
   ]
  },
  {
   "cell_type": "code",
   "execution_count": 13,
   "metadata": {},
   "outputs": [
    {
     "data": {
      "text/plain": [
       "{1, 2, 3}"
      ]
     },
     "execution_count": 13,
     "metadata": {},
     "output_type": "execute_result"
    }
   ],
   "source": [
    "a | b # 합집합"
   ]
  },
  {
   "cell_type": "code",
   "execution_count": 14,
   "metadata": {},
   "outputs": [
    {
     "data": {
      "text/plain": [
       "{2, 3}"
      ]
     },
     "execution_count": 14,
     "metadata": {},
     "output_type": "execute_result"
    }
   ],
   "source": [
    "a - b # 차집합"
   ]
  },
  {
   "cell_type": "code",
   "execution_count": 15,
   "metadata": {},
   "outputs": [
    {
     "data": {
      "text/plain": [
       "{1}"
      ]
     },
     "execution_count": 15,
     "metadata": {},
     "output_type": "execute_result"
    }
   ],
   "source": [
    "a & b # 교집합"
   ]
  },
  {
   "cell_type": "code",
   "execution_count": 16,
   "metadata": {},
   "outputs": [],
   "source": [
    "# 집합은 집합 고유의 계산하는 애가 있다. "
   ]
  },
  {
   "cell_type": "code",
   "execution_count": 17,
   "metadata": {},
   "outputs": [],
   "source": [
    "def cross(A, B):\n",
    "    \"The set of ways of concatenating one item from collection A with one from B.\"\n",
    "    return {a + b \n",
    "            for a in A for b in B}\n",
    "\n",
    "urn = cross('W', '12345678') "
   ]
  },
  {
   "cell_type": "code",
   "execution_count": 18,
   "metadata": {},
   "outputs": [
    {
     "data": {
      "text/plain": [
       "{'W1', 'W2', 'W3', 'W4', 'W5', 'W6', 'W7', 'W8'}"
      ]
     },
     "execution_count": 18,
     "metadata": {},
     "output_type": "execute_result"
    }
   ],
   "source": [
    "urn"
   ]
  },
  {
   "cell_type": "code",
   "execution_count": 19,
   "metadata": {},
   "outputs": [],
   "source": [
    "urn = cross('W', '12345678') | cross('B', '123456') | cross('R', '123456789') "
   ]
  },
  {
   "cell_type": "code",
   "execution_count": 25,
   "metadata": {},
   "outputs": [
    {
     "data": {
      "text/plain": [
       "{'B1',\n",
       " 'B2',\n",
       " 'B3',\n",
       " 'B4',\n",
       " 'B5',\n",
       " 'B6',\n",
       " 'R1',\n",
       " 'R2',\n",
       " 'R3',\n",
       " 'R4',\n",
       " 'R5',\n",
       " 'R6',\n",
       " 'R7',\n",
       " 'R8',\n",
       " 'R9',\n",
       " 'W1',\n",
       " 'W2',\n",
       " 'W3',\n",
       " 'W4',\n",
       " 'W5',\n",
       " 'W6',\n",
       " 'W7',\n",
       " 'W8'}"
      ]
     },
     "execution_count": 25,
     "metadata": {},
     "output_type": "execute_result"
    }
   ],
   "source": [
    "urn"
   ]
  },
  {
   "cell_type": "code",
   "execution_count": 20,
   "metadata": {},
   "outputs": [
    {
     "data": {
      "text/plain": [
       "23"
      ]
     },
     "execution_count": 20,
     "metadata": {},
     "output_type": "execute_result"
    }
   ],
   "source": [
    "len(urn)"
   ]
  },
  {
   "cell_type": "code",
   "execution_count": 21,
   "metadata": {},
   "outputs": [
    {
     "data": {
      "text/plain": [
       "100947"
      ]
     },
     "execution_count": 21,
     "metadata": {},
     "output_type": "execute_result"
    }
   ],
   "source": [
    "# 23개의 공 중 6개를 뽑을 확률 (공 색깔과 관계없이) 23C6 = 23! / 17! * 6! = 100947\n",
    "def combos(items, n):\n",
    "    \"All combinations of n items; each combo as a concatenated str.\"\n",
    "    return {' '.join(combo) \n",
    "            for combo in itertools.combinations(items, n)}\n",
    "\n",
    "U6 = combos(urn, 6)\n",
    "\n",
    "len(U6)"
   ]
  },
  {
   "cell_type": "code",
   "execution_count": 22,
   "metadata": {},
   "outputs": [
    {
     "data": {
      "text/plain": [
       "{'R8 W1 R9 W2 W8 R6',\n",
       " 'B2 R8 B3 W7 R9 B4',\n",
       " 'B5 W1 R9 B6 W2 W6',\n",
       " 'B5 B2 R1 R4 R5 R6',\n",
       " 'W7 R5 W1 W4 B1 R6',\n",
       " 'R1 R8 W7 R7 W4 W6',\n",
       " 'B5 B2 W5 B3 W7 W6',\n",
       " 'R8 W7 R4 R5 W8 W6',\n",
       " 'R8 R2 W3 B4 B1 R6',\n",
       " 'R2 B3 R7 W4 B1 R6',\n",
       " 'B2 W5 R2 W1 W2 W4',\n",
       " 'R2 R4 R7 W2 W4 W8',\n",
       " 'W5 R1 R5 W8 R6 W6',\n",
       " 'R8 B3 R9 B6 W2 R6',\n",
       " 'B2 B3 W7 R4 R9 W6',\n",
       " 'R1 B3 R5 W1 W4 B4',\n",
       " 'B5 R3 W4 W8 B1 W6',\n",
       " 'R2 B3 R5 R9 W2 B4',\n",
       " 'R4 R5 R3 B6 W2 W6',\n",
       " 'B2 R1 R8 B3 R4 R6',\n",
       " 'R5 R9 W4 W8 B1 R6',\n",
       " 'W5 R8 B3 R5 W3 W6',\n",
       " 'B3 W7 W1 W8 R6 W6',\n",
       " 'W7 R4 R7 B6 W4 R6',\n",
       " 'B2 W7 W1 R7 W4 R6',\n",
       " 'B2 W5 R2 R5 W2 W4',\n",
       " 'R8 B3 W7 R5 R7 B6',\n",
       " 'R4 W1 R3 W3 B1 R6',\n",
       " 'B2 R2 R5 R3 R9 B1',\n",
       " 'W7 R5 R3 R7 W2 W6',\n",
       " 'B5 R5 R7 B4 B1 W6',\n",
       " 'B2 W7 R9 W2 W4 B4',\n",
       " 'B5 W7 R3 R7 R9 B1',\n",
       " 'R2 R5 W2 W8 B4 B1',\n",
       " 'B2 W1 R9 B6 W8 R6',\n",
       " 'B2 W5 R8 W2 B4 W6',\n",
       " 'W7 R5 B6 W4 B4 W6',\n",
       " 'W7 B6 B4 B1 R6 W6',\n",
       " 'B5 W5 R8 R7 W4 B1',\n",
       " 'W7 R7 W2 W4 W8 R6',\n",
       " 'B5 R9 W2 W4 B4 B1',\n",
       " 'R1 R8 W7 R3 W3 B1',\n",
       " 'B2 B3 W1 R7 W2 B1',\n",
       " 'B2 R5 W1 B6 W8 R6',\n",
       " 'W5 R1 W7 R3 B6 W2',\n",
       " 'W5 B3 R3 W2 B1 R6',\n",
       " 'W5 R4 W2 W4 W8 R6',\n",
       " 'B5 R8 R5 R3 B6 R6',\n",
       " 'B5 B2 B3 W1 W4 B4',\n",
       " 'R8 B3 R7 W4 W8 R6',\n",
       " 'R2 R5 R7 W4 W8 W6',\n",
       " 'R1 R5 W3 W4 B1 R6',\n",
       " 'R4 R5 W1 B6 W8 R6',\n",
       " 'R2 B3 R5 W1 R7 W3',\n",
       " 'W5 R1 R8 B3 W7 W4',\n",
       " 'B2 R2 W7 R7 R9 W2',\n",
       " 'B5 W5 R8 R7 B4 W6',\n",
       " 'R1 R8 R2 R5 W8 B4',\n",
       " 'B2 B3 R5 W1 W3 W4',\n",
       " 'W5 R1 B3 R3 R9 B4',\n",
       " 'R8 R2 R7 R9 B4 B1',\n",
       " 'B5 B2 B3 R7 W3 B6',\n",
       " 'B2 R2 R4 R7 W4 W8',\n",
       " 'R1 R8 R2 R4 R9 W8',\n",
       " 'W3 W2 W4 B4 R6 W6',\n",
       " 'R8 W7 W1 W3 B1 R6',\n",
       " 'B2 R8 W7 R4 R9 B1',\n",
       " 'B2 W5 R5 W1 B1 W6',\n",
       " 'R1 R8 R3 R7 W2 B1',\n",
       " 'B5 R2 R5 R3 B4 R6',\n",
       " 'B2 W5 R8 R2 R4 B6',\n",
       " 'B5 R1 B3 R5 R7 B6',\n",
       " 'W5 R2 W7 R7 B4 B1',\n",
       " 'R4 W1 R9 B6 W8 B1',\n",
       " 'B5 R1 R2 W7 R4 W8',\n",
       " 'B2 R2 R7 W3 B6 B4',\n",
       " 'B5 R2 W3 R9 B6 W8',\n",
       " 'B3 R4 R5 R7 R9 W8',\n",
       " 'B5 W7 R4 W3 B6 R6',\n",
       " 'B2 B3 R7 R9 W4 B4',\n",
       " 'W5 B3 W7 R7 W2 W6',\n",
       " 'B3 R5 R3 R7 W4 B1',\n",
       " 'B3 R3 R7 W3 W4 B1',\n",
       " 'R2 R5 W1 W3 W2 W8',\n",
       " 'R2 R5 W1 W2 W8 B1',\n",
       " 'R8 R9 B6 W4 B1 W6',\n",
       " 'B5 R1 R4 R7 W3 W6',\n",
       " 'R1 W7 R5 R3 W4 R6',\n",
       " 'B5 R2 B3 R4 B4 W6',\n",
       " 'W5 W7 R5 W1 W4 W8',\n",
       " 'B5 B3 R3 R9 B6 W6',\n",
       " 'B2 R1 B3 W7 W1 B1',\n",
       " 'B3 W7 W1 R3 W4 W6',\n",
       " 'R8 R2 B3 R5 R7 B4',\n",
       " 'W5 R8 W7 B6 W2 W6',\n",
       " 'B5 B3 R4 R3 W2 W6',\n",
       " 'B5 W1 R7 W3 B4 B1',\n",
       " 'B5 R1 R4 R3 B6 W6',\n",
       " 'R1 R2 W7 R9 W4 R6',\n",
       " 'R1 B3 W1 R7 R9 W8',\n",
       " 'W5 R2 R4 W1 R7 R6',\n",
       " 'B3 R4 W2 W8 B1 R6',\n",
       " 'W5 R4 W1 B6 R6 W6',\n",
       " 'R1 W7 R4 R9 W4 B4',\n",
       " 'B5 B2 R1 R4 R7 B6',\n",
       " 'W7 R5 W1 R9 W4 B4',\n",
       " 'W1 R3 W2 W8 R6 W6',\n",
       " 'B3 R7 W4 W8 B1 W6',\n",
       " 'B5 R4 W1 R3 W4 W6',\n",
       " 'B2 R1 R2 R5 W2 B4',\n",
       " 'R1 W7 R4 W1 R3 R9',\n",
       " 'R2 W7 R4 R5 B6 R6',\n",
       " 'W7 R4 R9 W2 B1 R6',\n",
       " 'R8 R2 B3 W1 W3 W8',\n",
       " 'B5 W5 R1 B6 W8 B1',\n",
       " 'B5 B2 R3 W2 W8 R6',\n",
       " 'B2 W5 B3 R4 R9 W6',\n",
       " 'B5 R5 B6 W4 B4 W6',\n",
       " 'B5 B2 W5 R1 W7 B4',\n",
       " 'B2 R8 W1 W8 B4 R6',\n",
       " 'W5 R4 R3 B4 B1 W6',\n",
       " 'R8 R5 R9 W8 B4 B1',\n",
       " 'R5 W1 R7 W3 R9 W6',\n",
       " 'B5 B3 R4 B6 W2 B4',\n",
       " 'B5 W5 R5 B6 W2 W8',\n",
       " 'B2 W5 R4 R5 R9 R6',\n",
       " 'R1 R2 W7 R4 W1 R7',\n",
       " 'B2 R2 B3 R4 B6 W4',\n",
       " 'B2 R8 R2 R7 W3 W2',\n",
       " 'R1 W1 R7 R9 W4 B1',\n",
       " 'B5 B3 R5 W1 R3 R9',\n",
       " 'W5 R2 W7 R4 W4 B4',\n",
       " 'B5 R1 W7 B6 W2 W6',\n",
       " 'B5 W5 R4 R5 W2 R6',\n",
       " 'B2 B3 R4 W2 W8 R6',\n",
       " 'B2 R2 W1 W3 B6 W8',\n",
       " 'B2 R8 W7 R5 B4 W6',\n",
       " 'W5 W1 W3 B6 W8 W6',\n",
       " 'W7 R9 B6 W8 B4 W6',\n",
       " 'R1 R8 W7 W4 B4 W6',\n",
       " 'B5 B3 R4 R5 W3 B1',\n",
       " 'R1 R8 R2 W1 R9 R6',\n",
       " 'B2 R8 W1 R3 W8 W6',\n",
       " 'B5 R5 R7 W3 B6 B4',\n",
       " 'B3 W7 R4 R5 B6 W4',\n",
       " 'B5 W5 R1 R2 W3 B6',\n",
       " 'R1 R5 R7 W3 W8 B4',\n",
       " 'B5 R8 R5 W1 W3 W8',\n",
       " 'W5 R1 B3 R3 B6 R6',\n",
       " 'B5 R1 R8 W7 R7 B6',\n",
       " 'R3 R7 R9 B6 W4 W8',\n",
       " 'B5 R1 R8 B6 W4 B4',\n",
       " 'R8 R2 R3 W3 B6 W8',\n",
       " 'B2 W7 R5 R9 W2 R6',\n",
       " 'R1 R2 R3 W3 B6 R6',\n",
       " 'B3 R4 R7 W3 W4 W6',\n",
       " 'B5 W5 R3 B6 B4 R6',\n",
       " 'B5 B2 R8 R5 B6 B4',\n",
       " 'W5 R2 R7 W3 B4 R6',\n",
       " 'R1 R4 R7 B6 W4 R6',\n",
       " 'W5 W7 W3 R9 W2 W4',\n",
       " 'B3 R4 R3 W3 B6 W2',\n",
       " 'R8 R5 R7 W3 W2 R6',\n",
       " 'R2 W7 R5 W3 B4 B1',\n",
       " 'B3 W7 R3 W4 B4 B1',\n",
       " 'R8 B3 W1 W2 W4 W8',\n",
       " 'B5 R3 R7 W4 B1 W6',\n",
       " 'B2 W7 R5 R3 R7 B6',\n",
       " 'B5 B2 R8 W7 R3 B4',\n",
       " 'R1 R4 W1 W3 W2 W4',\n",
       " 'B2 B3 R4 R9 W2 W4',\n",
       " 'B5 R8 W1 R7 W4 R6',\n",
       " 'W5 W7 R4 W4 R6 W6',\n",
       " 'B3 R9 B6 W4 W8 W6',\n",
       " 'R8 R7 R9 B1 R6 W6',\n",
       " 'B5 W5 R1 W2 W8 B1',\n",
       " 'B5 W7 R4 W4 B4 B1',\n",
       " 'B5 W7 R4 W2 W8 W6',\n",
       " 'W5 R2 R5 W3 W2 B4',\n",
       " 'B2 R1 R3 W3 B6 W4',\n",
       " 'R2 R5 R7 B6 W4 B1',\n",
       " 'R5 R7 W3 R9 B6 B1',\n",
       " 'B5 R8 R4 W1 W3 B4',\n",
       " 'B5 R3 R9 W2 R6 W6',\n",
       " 'B5 B2 W5 R8 R2 R3',\n",
       " 'R8 R2 R4 R3 R9 B6',\n",
       " 'W5 R4 W1 W2 W8 B4',\n",
       " 'W1 R3 R9 B4 B1 W6',\n",
       " 'B5 R1 B3 R7 W3 R9',\n",
       " 'R8 R5 R7 R9 B1 W6',\n",
       " 'B5 W5 R3 W3 W8 B4',\n",
       " 'B2 W5 R7 W4 B1 R6',\n",
       " 'R1 R2 R4 R7 W3 W6',\n",
       " 'R1 R4 R3 B6 B1 W6',\n",
       " 'B5 R2 W7 R5 R3 R7',\n",
       " 'B5 R2 W7 R3 B4 B1',\n",
       " 'R8 R4 W2 W4 W8 W6',\n",
       " 'W5 R1 R2 B3 W1 W6',\n",
       " 'R8 R2 R3 R7 W2 B1',\n",
       " 'B5 W1 R7 W2 R6 W6',\n",
       " 'W5 R2 R5 R9 B4 R6',\n",
       " 'B5 B2 R2 R4 W4 W8',\n",
       " 'B5 B2 W5 R8 R2 W7',\n",
       " 'B2 W1 W4 W8 B1 W6',\n",
       " 'W7 R5 R7 W2 W8 W6',\n",
       " 'W5 R8 R2 B3 R3 W4',\n",
       " 'B2 R2 R5 W3 R9 B4',\n",
       " 'B2 W7 B6 B4 B1 W6',\n",
       " 'B5 W5 W7 W3 B1 R6',\n",
       " 'W5 R1 R2 W7 W1 R3',\n",
       " 'R2 B3 R4 R7 W3 R9',\n",
       " 'B5 W5 R3 W4 W8 R6',\n",
       " 'B5 W5 R8 R4 B6 B4',\n",
       " 'W5 W7 R4 R7 W2 W6',\n",
       " 'R1 R8 R4 R3 W4 W8',\n",
       " 'R5 R3 B6 W4 B1 W6',\n",
       " 'B2 R1 R7 W3 W2 R6',\n",
       " 'W5 R8 R9 W2 W4 W6',\n",
       " 'B2 W5 B3 R7 R9 B1',\n",
       " 'B2 W5 R2 B6 W4 W8',\n",
       " 'R8 B3 R3 R7 B6 W8',\n",
       " 'R1 R2 B3 W7 R3 W4',\n",
       " 'B5 W5 W7 R3 R7 W8',\n",
       " 'B5 R7 W3 W8 B1 R6',\n",
       " 'B2 R2 R7 B6 W8 W6',\n",
       " 'R8 R5 B6 B4 B1 R6',\n",
       " 'B2 W5 R1 W1 B6 R6',\n",
       " 'B2 R1 R8 R2 B6 R6',\n",
       " 'B5 B2 R8 R3 W3 W2',\n",
       " 'W7 W1 R3 W3 B6 W2',\n",
       " 'B5 R3 B6 W4 B4 B1',\n",
       " 'B5 B2 R2 R5 W4 B4',\n",
       " 'R8 W7 R7 W3 R9 R6',\n",
       " 'B5 R4 R9 W4 R6 W6',\n",
       " 'R2 W7 R4 R7 B6 R6',\n",
       " 'B5 W5 R2 W7 W1 W4',\n",
       " 'B2 R3 R9 W2 W8 B4',\n",
       " 'W5 R2 W7 R5 W1 B6',\n",
       " 'R2 W1 R7 R9 W2 B1',\n",
       " 'B5 W5 R2 W1 R3 W3',\n",
       " 'W5 R8 W7 W1 W3 R6',\n",
       " 'W5 R8 W7 R7 W3 B6',\n",
       " 'W5 R2 R3 W3 B6 R6',\n",
       " 'W5 B3 R5 W1 R7 B1',\n",
       " 'B2 R1 R4 R5 R3 R6',\n",
       " 'W5 W7 R4 R5 R9 W6',\n",
       " 'R2 R4 W1 R3 W4 B1',\n",
       " 'B2 R2 R4 R7 W2 B1',\n",
       " 'B2 W1 R7 W3 W8 B1',\n",
       " 'R1 R4 W1 R3 R7 W3',\n",
       " 'R2 W3 R9 W4 W8 B4',\n",
       " 'B3 R4 W4 W8 B4 W6',\n",
       " 'W1 R3 R9 W2 W4 R6',\n",
       " 'B3 R5 W1 R7 R9 W2',\n",
       " 'R8 W7 W1 W3 B1 W6',\n",
       " 'B3 W3 W2 W4 B1 R6',\n",
       " 'R8 R2 B3 W7 R3 R7',\n",
       " 'R2 W1 W2 W8 B4 B1',\n",
       " 'R1 R8 B3 R4 B6 B1',\n",
       " 'B5 W5 R5 W1 W8 W6',\n",
       " 'R1 R8 R5 R3 R7 W3',\n",
       " 'R2 W7 R5 B6 W4 R6',\n",
       " 'B2 R1 R8 W7 R7 R6',\n",
       " 'B3 R4 B6 W2 B4 W6',\n",
       " 'B5 W5 R9 W2 W4 W6',\n",
       " 'R2 R4 R5 W4 B1 W6',\n",
       " 'W5 W7 R5 W1 B4 W6',\n",
       " 'W5 R5 W3 B6 W2 W4',\n",
       " 'R1 R8 R2 R5 B6 W6',\n",
       " 'R1 R2 R7 W3 W4 B4',\n",
       " 'B5 W5 R1 R2 R7 B6',\n",
       " 'W5 R1 W7 R4 B6 W2',\n",
       " 'B5 R1 B6 W2 W4 B4',\n",
       " 'B2 R1 B3 R4 R5 W1',\n",
       " 'R2 B3 W7 W1 W4 W8',\n",
       " 'W5 R8 R5 R9 W2 B1',\n",
       " 'R8 R4 W3 W8 B4 B1',\n",
       " 'R1 R2 B3 W3 B4 R6',\n",
       " 'R1 R8 B3 W1 R9 W8',\n",
       " 'R5 W1 R3 R9 W2 R6',\n",
       " 'W5 R1 R4 W8 B4 R6',\n",
       " 'B3 W7 R5 B6 W4 W6',\n",
       " 'R1 R8 R2 W1 W2 B4',\n",
       " 'B2 R8 R2 W3 W8 R6',\n",
       " 'B5 R4 W4 B4 B1 W6',\n",
       " 'W5 R1 W7 W3 B6 W4',\n",
       " 'W1 W3 W2 B4 R6 W6',\n",
       " 'B5 W5 R5 R7 R9 W8',\n",
       " 'B2 W7 W1 R7 W3 B6',\n",
       " 'B2 W5 R2 W7 B1 R6',\n",
       " 'B5 R4 W1 R7 B6 W2',\n",
       " 'B5 R7 B6 W2 W8 R6',\n",
       " 'B2 R8 W7 R4 W3 W6',\n",
       " 'W5 R1 R8 B3 B4 W6',\n",
       " 'B2 B3 W1 W3 W8 B4',\n",
       " 'R1 R2 B3 R4 B6 W2',\n",
       " 'R1 R8 W7 R3 R7 R9',\n",
       " 'R1 B3 R4 B6 W8 B4',\n",
       " 'B5 R1 R8 W2 W8 R6',\n",
       " 'B5 R2 R4 R5 W1 W8',\n",
       " 'W5 R7 R9 W2 B4 B1',\n",
       " 'R8 R7 W3 B6 W2 B1',\n",
       " 'B2 R8 R2 R4 R3 R6',\n",
       " 'R1 R2 B3 W1 R7 B6',\n",
       " 'B5 R2 R5 W4 B4 W6',\n",
       " 'W5 B6 W8 B1 R6 W6',\n",
       " 'W5 W1 W3 R9 B6 W2',\n",
       " 'B5 R1 W3 R9 B6 B4',\n",
       " 'B3 R4 R5 R7 W2 R6',\n",
       " 'B5 R4 R5 R7 B4 R6',\n",
       " 'B5 R8 B3 R3 B6 R6',\n",
       " 'W5 R2 W7 W2 B1 R6',\n",
       " 'B2 W5 R1 W1 W8 B4',\n",
       " 'R2 W3 R9 B1 R6 W6',\n",
       " 'B5 R8 R5 W2 W8 B4',\n",
       " 'B5 B2 B3 R4 R3 B4',\n",
       " 'R1 B3 W1 R9 W8 R6',\n",
       " 'B5 W5 R4 R3 R9 B6',\n",
       " 'R4 R3 R7 R9 W8 R6',\n",
       " 'B5 R5 W8 B4 R6 W6',\n",
       " 'B2 W5 R1 R5 R7 B1',\n",
       " 'R1 R8 B3 R3 B6 R6',\n",
       " 'R1 R8 W7 R4 R9 B6',\n",
       " 'R1 R8 W1 R3 W2 W8',\n",
       " 'B2 W5 B3 R9 W2 R6',\n",
       " 'B3 W7 R4 R9 R6 W6',\n",
       " 'B5 W5 R3 W3 R9 W8',\n",
       " 'B2 B3 W1 W2 W4 R6',\n",
       " 'B3 W7 R3 R7 W8 R6',\n",
       " 'B5 R9 W2 W8 B4 R6',\n",
       " 'B2 R8 B6 W4 W8 W6',\n",
       " 'R8 R9 B6 W2 B1 R6',\n",
       " 'W5 B3 R7 B6 B4 R6',\n",
       " 'R8 W1 W3 R9 B4 W6',\n",
       " 'B5 R2 W1 R7 W2 B1',\n",
       " 'R2 B3 R4 W3 R9 B6',\n",
       " 'B5 R1 R4 W2 W8 R6',\n",
       " 'R2 B3 R3 R7 W3 W2',\n",
       " 'B3 R5 W3 W4 B4 W6',\n",
       " 'B5 R8 R4 B6 W4 R6',\n",
       " 'B5 R1 W1 W3 W4 B1',\n",
       " 'B5 B2 W1 R3 R9 B1',\n",
       " 'R8 R2 B6 W4 W8 B1',\n",
       " 'R1 B3 W7 R7 B6 R6',\n",
       " 'B2 R1 R8 R7 B6 W4',\n",
       " 'R2 B3 W3 B6 W4 W8',\n",
       " 'R8 W7 R5 R3 R9 B4',\n",
       " 'W5 R4 R5 W1 R9 B1',\n",
       " 'B2 R1 B3 W1 R9 W4',\n",
       " 'R2 B3 R4 W1 W4 R6',\n",
       " 'B2 R1 R3 R7 B6 R6',\n",
       " 'R2 W1 B6 W2 W4 W8',\n",
       " 'B5 R2 R5 R7 B1 W6',\n",
       " 'B2 W5 B3 W7 R9 R6',\n",
       " 'W5 B6 W4 B1 R6 W6',\n",
       " 'B3 R5 R3 R9 W8 W6',\n",
       " 'W7 R7 W2 W4 B1 W6',\n",
       " 'B2 R8 B3 W7 W1 R3',\n",
       " 'B2 W5 R1 W7 R5 W3',\n",
       " 'W5 R8 W1 W2 W4 B1',\n",
       " 'B5 B2 R2 W1 W4 W8',\n",
       " 'W7 R4 R5 W1 R7 W8',\n",
       " 'B2 W5 R4 W1 R7 W8',\n",
       " 'B5 R8 W7 R5 R7 W3',\n",
       " 'B5 R8 B3 R4 W3 B6',\n",
       " 'B5 B3 W1 R7 W3 B4',\n",
       " 'B5 R1 W7 R3 R7 B1',\n",
       " 'R1 W3 R9 B6 W4 R6',\n",
       " 'W5 R8 W1 R3 W4 W6',\n",
       " 'R8 R4 R5 R9 W4 W8',\n",
       " 'R2 B3 R4 R5 W1 W2',\n",
       " 'B2 W5 R8 R7 R9 W2',\n",
       " 'R1 B3 R7 B6 R6 W6',\n",
       " 'R8 B3 W3 B6 W4 R6',\n",
       " 'R2 R4 W3 W4 B1 R6',\n",
       " 'R3 B6 W2 W8 B1 R6',\n",
       " 'W5 R4 R3 W2 B4 B1',\n",
       " 'B5 B2 W5 R4 B1 W6',\n",
       " 'B5 B2 W1 W3 B6 W2',\n",
       " 'B2 R1 B3 W3 B6 W8',\n",
       " 'B2 W5 B3 R4 B1 W6',\n",
       " 'B5 B2 R8 W3 B4 W6',\n",
       " 'W5 R1 R2 B3 W2 W8',\n",
       " 'W5 R2 W7 R4 R3 W6',\n",
       " 'B2 R2 R4 R3 R7 R6',\n",
       " 'B5 B2 R1 R8 B3 R6',\n",
       " 'R1 R4 R5 R9 W4 W8',\n",
       " 'B5 R1 R8 R2 B3 R9',\n",
       " 'B5 B2 W5 R9 W4 W6',\n",
       " 'B5 B2 B3 W7 W3 B4',\n",
       " 'R1 R2 W4 B1 R6 W6',\n",
       " 'R8 R2 R4 R5 R7 B1',\n",
       " 'W5 R4 W3 W2 W8 W6',\n",
       " 'B2 R4 R5 R3 B4 B1',\n",
       " 'B5 B3 W2 W4 R6 W6',\n",
       " 'B5 R8 R4 W1 R3 R6',\n",
       " 'R2 W1 W3 W8 B4 B1',\n",
       " 'B5 B2 R2 W1 W4 B1',\n",
       " 'B2 R4 R3 R7 W3 B1',\n",
       " 'W5 R1 B3 W3 R9 W8',\n",
       " 'W5 R2 R4 R9 B6 R6',\n",
       " 'B2 R1 W7 W1 B6 B4',\n",
       " 'B3 R4 W1 B6 B1 R6',\n",
       " 'R7 W3 B6 W2 W8 B1',\n",
       " 'R2 B3 W1 R3 B6 W4',\n",
       " 'B5 W5 R8 W7 R9 B6',\n",
       " 'R8 B3 B6 W8 B4 W6',\n",
       " 'B2 R8 B3 W1 W3 W8',\n",
       " 'B2 B3 W2 W4 B4 B1',\n",
       " 'R8 R2 W7 B6 B1 R6',\n",
       " 'B5 W5 R5 R9 W8 R6',\n",
       " 'B2 R4 W1 R9 B1 R6',\n",
       " 'B5 B2 R8 W1 W2 B4',\n",
       " 'B2 R8 B3 W3 R9 W6',\n",
       " 'R2 R5 R3 R7 W8 W6',\n",
       " 'B3 R4 W1 R7 W2 W8',\n",
       " 'R2 B3 R5 R3 W3 B6',\n",
       " 'B2 B3 R4 W3 W2 B1',\n",
       " 'W5 W7 R5 R3 W3 W6',\n",
       " 'B5 W5 W3 B6 W2 W4',\n",
       " 'B2 W5 R1 W7 W4 R6',\n",
       " 'R1 R8 R4 W1 R9 W4',\n",
       " 'B5 B2 W5 R7 W3 B4',\n",
       " 'B5 W2 B4 B1 R6 W6',\n",
       " 'W5 R2 W1 R3 R7 B6',\n",
       " 'R2 W7 R5 R3 R9 B4',\n",
       " 'R1 R7 W3 B4 B1 W6',\n",
       " 'B5 R8 W7 R3 W8 R6',\n",
       " 'B5 W5 R1 B3 W3 W6',\n",
       " 'R8 R2 R3 R7 B4 R6',\n",
       " 'B5 W5 R1 W1 R3 W2',\n",
       " 'B2 W5 R2 R5 B6 B1',\n",
       " 'W5 R7 W4 W8 R6 W6',\n",
       " 'R1 R8 R4 W3 R6 W6',\n",
       " 'B5 W5 R4 W3 B6 W2',\n",
       " 'B2 W5 R8 B3 W7 R4',\n",
       " 'R2 W7 R4 R3 B6 B4',\n",
       " 'B3 R5 W1 R7 W2 W8',\n",
       " 'B5 W7 R4 R9 W2 B1',\n",
       " 'W5 R5 R7 W2 W8 W6',\n",
       " 'B2 R8 B3 W3 W2 W6',\n",
       " 'R2 W7 R4 R5 W1 R3',\n",
       " 'B2 R2 R4 W1 R7 B6',\n",
       " 'W7 R5 W1 W3 W4 B4',\n",
       " 'R2 R4 R5 W1 W8 W6',\n",
       " 'B5 R8 R5 W3 W8 W6',\n",
       " 'R1 R5 R9 B6 W4 R6',\n",
       " 'R8 R2 R4 R5 R7 W2',\n",
       " 'W5 R1 R5 W3 R9 B4',\n",
       " 'W5 R5 W4 B1 R6 W6',\n",
       " 'B5 W5 W7 R7 W3 B6',\n",
       " 'B2 B3 W1 R3 B6 W8',\n",
       " 'R8 R2 R4 W1 W4 B1',\n",
       " 'R8 R2 R5 W8 B4 B1',\n",
       " 'B2 R2 W7 R4 B6 W8',\n",
       " 'R8 W1 W3 B6 W2 B4',\n",
       " 'B2 R8 B3 W1 B4 B1',\n",
       " 'R1 R8 R4 R7 R6 W6',\n",
       " 'B5 R2 R4 W1 W8 R6',\n",
       " 'B2 W5 R2 W2 W8 B1',\n",
       " 'R8 B3 R9 W2 B4 R6',\n",
       " 'B2 W5 R2 W7 R5 W4',\n",
       " 'R8 W1 W3 R9 W2 R6',\n",
       " 'B3 R5 R3 R7 W4 W8',\n",
       " 'B5 R1 R2 R7 R9 B1',\n",
       " 'W7 R4 R5 B6 W8 B4',\n",
       " 'B2 R8 W1 R7 W8 B1',\n",
       " 'R2 R5 R7 W3 W2 W8',\n",
       " 'B2 R8 R2 R9 B6 W6',\n",
       " 'W5 R5 R3 W3 W8 W6',\n",
       " 'W5 W7 R4 W1 W3 B1',\n",
       " 'R1 R2 W1 R9 W4 B4',\n",
       " 'B2 W5 R2 R4 W1 W3',\n",
       " 'B2 B3 W3 B6 B1 R6',\n",
       " 'W5 W1 R9 B6 W8 B1',\n",
       " 'B5 R1 R5 B1 R6 W6',\n",
       " 'W5 R1 R2 R9 R6 W6',\n",
       " 'R8 R7 B6 W8 B4 B1',\n",
       " 'W7 R4 W3 W8 B4 R6',\n",
       " 'W5 R8 R4 R5 W4 B4',\n",
       " 'R8 R2 R5 R3 B6 B1',\n",
       " 'R1 R4 W1 R7 W2 W4',\n",
       " 'B5 B2 R4 W1 R7 W6',\n",
       " 'B2 W5 B3 W7 R3 W8',\n",
       " 'B5 B2 R8 R4 W4 W6',\n",
       " 'B5 B2 W7 R3 B4 B1',\n",
       " 'B5 W3 R9 B6 W2 B4',\n",
       " 'W5 R1 R2 W2 W4 W8',\n",
       " 'R1 W7 B6 W2 W8 R6',\n",
       " 'B5 R4 R3 R7 B4 B1',\n",
       " 'R4 R7 W3 W2 B4 W6',\n",
       " 'B5 B2 R8 R2 R5 W2',\n",
       " 'B5 R8 B3 R5 R9 W4',\n",
       " 'R8 B3 R3 R7 W8 B1',\n",
       " 'B2 W5 R4 R9 B4 W6',\n",
       " 'B5 W5 B3 B6 W2 W8',\n",
       " 'W5 R1 R8 R5 R9 B4',\n",
       " 'W5 W7 R9 W8 R6 W6',\n",
       " 'R1 R3 W2 W8 B1 R6',\n",
       " 'R2 W1 W3 W8 B4 W6',\n",
       " 'B5 W5 R2 R3 B6 B1',\n",
       " 'R8 R2 R7 W3 B4 W6',\n",
       " 'B2 R8 W7 R5 W1 R7',\n",
       " 'B5 R2 R3 R9 B6 B1',\n",
       " 'W5 R8 W7 R4 W3 R6',\n",
       " 'B5 B2 W7 R5 R3 W4',\n",
       " 'B5 W5 R5 W1 R7 R6',\n",
       " 'B5 R2 R5 B6 W8 B1',\n",
       " 'W5 B3 W1 R9 W4 B4',\n",
       " 'R8 B3 R7 R9 B6 W4',\n",
       " 'B2 W7 W3 B6 W8 B4',\n",
       " 'R2 R3 R7 W4 B1 R6',\n",
       " 'W7 R5 R3 W3 R6 W6',\n",
       " 'B5 W7 R4 W3 B4 B1',\n",
       " 'B2 R1 R8 W7 R4 W8',\n",
       " 'R1 R8 B3 W7 R7 R9',\n",
       " 'B2 R2 B3 R5 W8 B4',\n",
       " 'R1 R2 B3 R7 W3 B1',\n",
       " 'R8 R2 R3 W3 R9 W4',\n",
       " 'B5 R1 B3 R4 R5 R9',\n",
       " 'B2 R1 R5 B6 W2 W8',\n",
       " 'R1 R8 R5 R7 W4 B4',\n",
       " 'B5 W5 W7 W1 R7 W8',\n",
       " 'B5 B2 R7 W2 W8 B4',\n",
       " 'R1 R8 B3 W1 W3 B6',\n",
       " 'R8 R2 B3 W3 W4 W6',\n",
       " 'R8 W3 R9 W4 W8 B1',\n",
       " 'B5 B2 R8 R4 W1 W8',\n",
       " 'R2 B3 R4 B6 W8 R6',\n",
       " 'B5 R1 R8 W1 R3 W2',\n",
       " 'B5 B2 W5 R1 R8 W2',\n",
       " 'B5 R1 W7 R5 R3 W6',\n",
       " 'B5 B2 W7 W3 R9 B6',\n",
       " 'W5 R4 R5 W2 W4 W8',\n",
       " 'B5 B2 W5 R4 R3 R6',\n",
       " 'W7 R5 W1 R7 W3 W2',\n",
       " 'B2 W5 R8 R2 R4 R3',\n",
       " 'B2 R8 W7 W8 B1 W6',\n",
       " 'B5 R9 W2 B4 R6 W6',\n",
       " 'W7 R4 W1 R3 W4 W6',\n",
       " 'B5 B2 R8 R4 B6 B1',\n",
       " 'W5 R1 R2 W7 R6 W6',\n",
       " 'R2 B3 W7 W4 B4 W6',\n",
       " 'W5 W1 W2 W8 B4 B1',\n",
       " 'B5 W5 R9 W2 W8 W6',\n",
       " 'B2 R2 W7 R7 W3 B4',\n",
       " 'R2 B3 R3 R7 R9 W6',\n",
       " 'B2 W5 R1 W2 W4 B4',\n",
       " 'R2 R3 R7 W2 W4 B1',\n",
       " 'B3 W7 R3 R7 W3 W4',\n",
       " 'B5 R4 R3 R9 W4 W6',\n",
       " 'R4 R7 W3 W4 B1 R6',\n",
       " 'R7 W3 B6 W2 W8 W6',\n",
       " 'R2 W1 W3 B6 R6 W6',\n",
       " 'W5 R8 W7 R7 R9 W4',\n",
       " 'R1 R5 R3 B6 W4 B4',\n",
       " 'R1 R8 W7 R3 R9 B1',\n",
       " 'R1 R4 W1 R3 R7 W4',\n",
       " 'B5 R2 R5 R7 W3 B6',\n",
       " 'B5 R5 R3 W2 W8 B4',\n",
       " 'B2 R4 W1 W3 B6 W6',\n",
       " 'B5 W5 R1 R4 R5 W4',\n",
       " 'B5 R5 R3 W4 W8 B1',\n",
       " 'W5 B3 R5 W1 B6 W6',\n",
       " 'B5 W5 R1 R2 R4 W3',\n",
       " 'R1 B3 R3 R7 R9 B4',\n",
       " 'R2 W3 W2 W8 B4 W6',\n",
       " 'W5 R8 W7 R7 B4 R6',\n",
       " 'B5 R8 W1 R7 R9 R6',\n",
       " 'W5 W7 W1 R7 B4 B1',\n",
       " 'B5 B3 W7 R4 R9 W6',\n",
       " 'W5 W3 W4 W8 R6 W6',\n",
       " 'R5 W1 W4 W8 B4 B1',\n",
       " 'B5 W5 R1 R5 R3 W8',\n",
       " 'B5 B2 R8 R7 R9 W4',\n",
       " 'B5 B3 R3 W2 W8 B4',\n",
       " 'B5 W7 R4 W1 R3 W8',\n",
       " 'B5 W1 R9 W2 W4 B4',\n",
       " 'W5 R1 W3 W2 B1 R6',\n",
       " 'B2 W5 R1 R4 W2 W6',\n",
       " 'R2 W3 B6 W8 B1 W6',\n",
       " 'B2 W5 R1 R7 W8 R6',\n",
       " 'B5 B3 R3 R7 B6 W2',\n",
       " 'R1 B3 W7 R4 R7 R6',\n",
       " 'B5 B3 R7 W8 B4 R6',\n",
       " 'B2 B3 W7 W2 B4 W6',\n",
       " 'B2 W5 R8 W1 W4 W6',\n",
       " 'W5 R1 R4 R3 W2 W4',\n",
       " 'B5 R8 W7 R4 W3 W6',\n",
       " 'R1 W7 R5 R7 B6 B1',\n",
       " 'R1 R8 R4 R9 R6 W6',\n",
       " 'B2 W5 W7 W3 W2 B1',\n",
       " 'R2 R3 R7 B6 W2 W6',\n",
       " 'B5 R2 R5 R7 W2 B4',\n",
       " 'B2 R4 R5 R9 W4 B1',\n",
       " 'B3 W7 R7 W2 W8 B4',\n",
       " 'B5 R2 R5 B4 B1 R6',\n",
       " 'B5 R2 W7 R4 W8 B4',\n",
       " 'B5 W5 R2 W7 W8 B1',\n",
       " 'B5 W5 R2 R5 R7 W6',\n",
       " 'B2 W5 R4 B6 W8 B4',\n",
       " 'B5 W5 R9 W8 B4 B1',\n",
       " 'R1 R7 R9 B6 W8 W6',\n",
       " 'B2 R8 W7 R4 B6 B1',\n",
       " 'R1 R2 R4 W1 W8 B4',\n",
       " 'R1 R5 W3 R9 B4 R6',\n",
       " 'W5 R4 W2 B4 B1 R6',\n",
       " 'R8 W7 R3 W8 R6 W6',\n",
       " 'B2 R1 W1 R3 B6 B4',\n",
       " 'B2 R1 W7 R4 W8 B4',\n",
       " 'B5 W7 R4 R5 R3 W3',\n",
       " 'B5 W5 R8 R7 R9 W4',\n",
       " 'B5 W5 W7 R3 R9 W2',\n",
       " 'W5 R8 R2 W3 B6 W4',\n",
       " 'R1 R2 B3 W4 B4 R6',\n",
       " 'R4 R5 W1 B4 B1 R6',\n",
       " 'B2 B3 W3 W2 W4 R6',\n",
       " 'B5 B2 W1 R3 B4 R6',\n",
       " 'R8 W7 W1 R3 W3 B4',\n",
       " 'R2 B3 R4 W1 B6 W6',\n",
       " 'W5 R2 R4 R3 W3 W2',\n",
       " 'B2 W3 R9 B6 W4 B1',\n",
       " 'R1 R8 R2 R5 W2 B4',\n",
       " 'R1 R4 W1 R9 B6 R6',\n",
       " 'R1 R4 W1 R9 B6 W8',\n",
       " 'W7 R9 B6 W4 W8 B1',\n",
       " 'B2 R1 R5 W3 B4 W6',\n",
       " 'B2 R8 R2 W3 W4 W8',\n",
       " 'B2 B3 W3 W2 W8 B4',\n",
       " 'R8 B3 W1 R7 B6 B1',\n",
       " 'B2 R8 R2 R7 R9 R6',\n",
       " 'B2 R1 R8 W1 W3 R6',\n",
       " 'R2 R5 R3 R9 W8 W6',\n",
       " 'B3 W7 W1 R3 R7 W8',\n",
       " 'B5 W1 R3 W3 W8 W6',\n",
       " 'B5 R8 W7 R9 W4 W6',\n",
       " 'R2 W7 R3 W3 R9 R6',\n",
       " 'B3 R4 W1 R9 W2 B4',\n",
       " 'B3 W3 R9 B6 B4 B1',\n",
       " 'B5 W5 R1 W1 B1 W6',\n",
       " 'B3 R5 R9 B6 W4 B4',\n",
       " 'W5 R1 B3 W7 W3 W8',\n",
       " 'R2 B3 R7 W3 R9 B4',\n",
       " 'B3 W7 R4 R7 W4 W8',\n",
       " 'R8 B3 R4 R5 B6 W4',\n",
       " 'B5 B2 W7 R7 R9 B1',\n",
       " 'B5 R1 R4 W1 R9 B6',\n",
       " 'W5 R7 W3 W2 W4 W6',\n",
       " 'B5 W7 W1 B6 W2 R6',\n",
       " 'R8 R5 R7 R9 W2 R6',\n",
       " 'W5 W7 W1 W2 W8 W6',\n",
       " 'W5 R8 W7 B6 W8 W6',\n",
       " 'R1 B3 R3 R7 W8 W6',\n",
       " 'W7 W1 R3 W4 W8 B1',\n",
       " 'B2 R1 W7 W8 B4 R6',\n",
       " 'B5 B2 R1 R2 R4 W1',\n",
       " 'B5 R1 R8 R2 R7 W8',\n",
       " 'W5 R1 B3 W1 W4 W8',\n",
       " 'R8 B3 W7 R4 R5 W2',\n",
       " 'B2 W5 R8 B3 R5 R3',\n",
       " 'B5 W5 R8 W7 W1 R3',\n",
       " 'W5 W7 R5 W1 R9 B1',\n",
       " 'B5 R2 W1 R9 B6 W6',\n",
       " 'W5 R4 R3 R7 R9 B1',\n",
       " 'B3 W1 R7 R9 W8 R6',\n",
       " 'R1 R4 W1 B1 R6 W6',\n",
       " 'R3 W3 B6 W2 W8 R6',\n",
       " 'W5 R1 B3 R7 W3 B6',\n",
       " 'R8 W7 R3 R7 W2 B1',\n",
       " 'W5 B3 W1 R7 W8 B4',\n",
       " 'R8 R2 R9 W2 B1 W6',\n",
       " 'B2 R4 R3 R7 R9 B1',\n",
       " 'R4 R3 R7 W4 B1 W6',\n",
       " 'B5 W5 R7 W3 B6 B1',\n",
       " 'B2 R2 W7 W3 R9 R6',\n",
       " 'R1 W1 B6 W2 R6 W6',\n",
       " 'B3 W1 R3 R7 W2 W4',\n",
       " 'W5 R8 R9 W8 B1 W6',\n",
       " 'B2 R8 W7 R4 R5 W1',\n",
       " 'R1 R2 B3 W7 R4 R9',\n",
       " 'B2 B3 R7 R9 B4 R6',\n",
       " 'B2 R8 R4 R3 W3 W8',\n",
       " 'R1 R2 R3 R7 W4 W8',\n",
       " 'B2 R8 W3 B4 B1 R6',\n",
       " 'R1 R8 R2 R9 B6 W4',\n",
       " 'B5 W5 R1 R2 B6 W6',\n",
       " 'B5 W5 R8 R4 W4 W8',\n",
       " 'B2 W5 R8 W7 R7 W3',\n",
       " 'B5 W7 R3 R7 B1 W6',\n",
       " 'B5 W5 R1 R3 B6 W6',\n",
       " 'W5 R8 W7 W1 W3 W2',\n",
       " 'B5 B2 R8 R4 W3 W8',\n",
       " 'B5 W5 W7 R5 R9 W4',\n",
       " 'B5 R8 R2 R5 R7 W2',\n",
       " 'B2 W1 R7 B6 W4 W8',\n",
       " 'W5 R4 B6 W4 W8 R6',\n",
       " 'R2 B3 R5 W4 W8 B4',\n",
       " 'B5 R1 R4 R5 B6 B4',\n",
       " 'B5 R2 R9 B6 W4 W8',\n",
       " 'B5 R1 R7 B6 B4 W6',\n",
       " 'R4 R5 R9 W4 W8 W6',\n",
       " 'B5 W5 R5 W1 B4 W6',\n",
       " 'B5 R8 W3 B1 R6 W6',\n",
       " 'R1 B3 R7 W2 W4 W8',\n",
       " 'B5 W5 B3 W7 R7 B1',\n",
       " 'R1 R8 R3 R7 W8 W6',\n",
       " 'R8 W7 R5 W2 W4 W6',\n",
       " 'R3 W3 B6 W2 W8 W6',\n",
       " 'W5 W7 W1 R9 B6 W4',\n",
       " 'B2 W7 R5 R3 R7 W6',\n",
       " 'B5 B3 R5 R3 W2 W8',\n",
       " 'B5 W5 R1 R8 W2 B1',\n",
       " 'B5 R1 R2 W7 R5 W8',\n",
       " 'B2 R8 R5 W1 B6 B4',\n",
       " 'R1 R2 W7 W3 B4 R6',\n",
       " 'W5 R8 R5 W1 R3 W4',\n",
       " 'R1 R5 W3 R9 W4 B1',\n",
       " 'B3 W7 B6 B1 R6 W6',\n",
       " 'W5 W3 W2 W4 W8 B4',\n",
       " 'B2 W1 R3 R7 W4 W6',\n",
       " 'R4 R5 W3 W4 B1 W6',\n",
       " 'B2 W5 R4 R5 W1 W3',\n",
       " 'B5 R8 R4 W4 W8 B4',\n",
       " 'W5 R8 R2 R4 B4 B1',\n",
       " 'R2 W7 R4 W1 B6 W4',\n",
       " 'B2 R8 B3 R5 W3 B4',\n",
       " 'B5 B2 W5 B3 R9 W4',\n",
       " 'B5 B2 R1 R8 B6 B4',\n",
       " 'B5 B3 W2 W8 B1 W6',\n",
       " 'B2 R2 W7 W2 W8 R6',\n",
       " 'R8 B3 R4 R3 W3 B4',\n",
       " 'R8 R4 R5 R3 B6 W8',\n",
       " 'W5 R7 W3 B6 W2 B1',\n",
       " 'R2 W7 W3 B6 W8 B1',\n",
       " 'B2 R3 R9 B6 W2 R6',\n",
       " 'B2 W5 W7 R9 W8 B1',\n",
       " 'B5 B2 R2 B3 W4 W8',\n",
       " 'W7 R3 R7 W3 W2 B1',\n",
       " 'R8 B3 R4 R7 W3 R9',\n",
       " 'R1 R2 B3 R5 R3 W2',\n",
       " 'W1 R7 W2 W8 B1 W6',\n",
       " 'B2 R2 R3 B6 W4 R6',\n",
       " 'R8 R2 R4 W3 B4 W6',\n",
       " 'R1 R4 R3 W3 B1 R6',\n",
       " 'R1 R8 B3 R3 W2 W4',\n",
       " 'R4 W1 W8 B4 B1 W6',\n",
       " 'R8 R7 W2 W4 B1 W6',\n",
       " 'B2 R5 W1 R9 B6 B4',\n",
       " 'R1 B3 R5 R7 R9 W2',\n",
       " 'R8 B3 W7 W1 W8 W6',\n",
       " 'B3 W7 R3 R7 W8 B1',\n",
       " 'B2 R1 R2 W7 B4 B1',\n",
       " 'R1 B3 R4 W3 R9 B4',\n",
       " 'R8 R2 W1 R3 R6 W6',\n",
       " 'B2 B3 W7 B6 W4 B4',\n",
       " 'W1 B6 W2 W4 W8 R6',\n",
       " 'B2 R2 W7 W1 W4 W6',\n",
       " 'R4 R9 W2 W4 B1 W6',\n",
       " 'R1 B3 R4 W1 R3 R7',\n",
       " 'B5 B2 W5 B3 R4 R9',\n",
       " 'B3 W7 R4 W3 W4 B1',\n",
       " 'W5 R1 B3 W7 R4 B1',\n",
       " 'R1 W1 R9 B6 W4 B4',\n",
       " 'R1 W7 R4 W8 B1 R6',\n",
       " 'B2 W5 R8 R5 W4 R6',\n",
       " 'R2 R3 W3 W2 B4 B1',\n",
       " 'R8 B3 W1 R3 W4 W8',\n",
       " 'B5 B2 R1 R8 W7 R7',\n",
       " 'R8 R4 R3 R9 B6 B1',\n",
       " 'R1 W7 R7 W3 R9 W8',\n",
       " 'W7 R5 R3 W4 B4 B1',\n",
       " 'B5 B3 R5 W3 W2 R6',\n",
       " 'W5 W7 W1 R9 B6 W8',\n",
       " 'B3 W3 R9 B6 W8 W6',\n",
       " 'B5 W5 R5 B6 W4 B1',\n",
       " 'W7 R4 W1 R3 W4 B4',\n",
       " 'B2 R2 B3 R5 B1 W6',\n",
       " 'B5 W5 R2 R5 B4 R6',\n",
       " 'R1 R8 R2 W3 B6 W6',\n",
       " 'B2 W5 W7 R7 W2 B1',\n",
       " 'W5 R2 W1 B6 W8 R6',\n",
       " 'R2 B3 R7 R9 W2 W8',\n",
       " 'W7 R4 R5 W3 W2 B4',\n",
       " 'B5 B3 R5 R3 R7 R9',\n",
       " 'B2 R8 B3 B6 W4 B1',\n",
       " 'R1 R2 B6 W4 W8 R6',\n",
       " 'R8 B3 R4 W4 W8 W6',\n",
       " 'R3 R7 R9 W4 W8 W6',\n",
       " 'B5 B2 R7 W3 B6 W6',\n",
       " 'R1 R2 B3 R5 W1 W3',\n",
       " 'B3 W7 R7 W3 R9 W6',\n",
       " 'B5 R8 R4 W1 R9 B1',\n",
       " 'R1 B3 R7 R9 B6 W6',\n",
       " 'B5 R2 B3 W7 R5 W4',\n",
       " 'B2 W5 W7 R4 B1 R6',\n",
       " 'B2 R1 R2 R5 W8 B1',\n",
       " 'B5 W5 R2 W7 R3 R9',\n",
       " 'R4 R5 W3 W8 B4 W6',\n",
       " 'B5 R9 W4 W8 R6 W6',\n",
       " 'B3 W3 W2 W8 B1 R6',\n",
       " 'B2 R2 B3 R4 W3 B4',\n",
       " 'B5 W1 R3 B4 B1 W6',\n",
       " 'B2 W7 W1 R7 W4 B1',\n",
       " 'B2 R8 R4 W1 B6 W4',\n",
       " 'B5 W3 B4 B1 R6 W6',\n",
       " 'B5 B2 R2 B3 W7 W6',\n",
       " 'B5 R1 W7 R5 B6 W6',\n",
       " 'B5 W5 B3 R4 W1 B1',\n",
       " 'W5 W1 R7 W3 W8 B1',\n",
       " 'R5 W1 R9 B6 W4 B1',\n",
       " 'R8 R4 R9 W2 W8 R6',\n",
       " 'W5 R1 B3 R4 R6 W6',\n",
       " 'R1 R4 W3 R9 W4 B1',\n",
       " 'R2 R5 R3 R7 W8 B1',\n",
       " 'R1 R5 W1 R9 W2 W6',\n",
       " 'B2 W5 R1 R5 W3 W8',\n",
       " 'B5 R1 R7 R9 B6 W4',\n",
       " 'B2 B3 R5 R9 W2 B1',\n",
       " 'R4 R5 W3 R9 W2 R6',\n",
       " 'B2 B3 R4 R9 W2 R6',\n",
       " 'B5 B2 W1 W8 B1 W6',\n",
       " 'B2 B3 R3 W3 W4 W6',\n",
       " 'B5 B2 R5 R9 W4 B4',\n",
       " 'W5 R4 R5 W1 W3 W2',\n",
       " 'B2 W7 R5 R3 W2 B1',\n",
       " 'W5 R2 R4 W8 B4 B1',\n",
       " 'B2 R7 W3 B4 B1 R6',\n",
       " 'R1 R5 R7 W2 W8 W6',\n",
       " 'B3 R7 W3 B1 R6 W6',\n",
       " 'B5 R1 R8 R3 R6 W6',\n",
       " 'B3 R4 W3 W2 R6 W6',\n",
       " 'B5 R1 B3 R4 W3 B6',\n",
       " 'W5 R4 R3 R7 B6 W8',\n",
       " 'B5 W7 R5 B6 B4 R6',\n",
       " 'R1 R8 W7 R3 R7 W3',\n",
       " 'W7 W2 W8 B4 B1 R6',\n",
       " 'W5 R7 R9 B6 W2 W4',\n",
       " 'B5 B3 W1 R3 B6 W8',\n",
       " 'R1 R8 R2 W7 W1 B6',\n",
       " 'B5 R4 R3 R7 W2 R6',\n",
       " 'W5 R1 W7 R7 R6 W6',\n",
       " 'R1 R8 R2 W7 R5 W8',\n",
       " 'B2 B3 R4 W3 B1 R6',\n",
       " 'B5 B2 R8 B3 W3 R6',\n",
       " 'B2 R8 B3 R4 W1 B6',\n",
       " 'W5 R4 W1 R7 W3 B6',\n",
       " 'R1 R8 R2 R4 W3 B1',\n",
       " 'R1 R2 W1 R7 W4 B1',\n",
       " 'W5 R8 B3 W8 B1 W6',\n",
       " 'R1 W1 R3 W2 B4 W6',\n",
       " 'R8 R4 R3 W3 R9 B6',\n",
       " 'B2 W5 B3 W7 R3 R7',\n",
       " 'R1 B3 R3 W4 B1 R6',\n",
       " 'B5 B2 B3 W1 B1 W6',\n",
       " 'W5 R1 R5 R3 W4 R6',\n",
       " 'R1 W7 R5 W1 W4 R6',\n",
       " 'R8 R2 W3 R9 B1 W6',\n",
       " 'R1 B3 W2 W8 B4 W6',\n",
       " 'W7 R5 W3 R9 W8 W6',\n",
       " 'B2 R8 W1 R9 W8 B1',\n",
       " 'W5 R1 W1 W3 R9 B1',\n",
       " 'B2 B3 R5 R9 W2 R6',\n",
       " 'R8 R4 W1 B6 W4 B4',\n",
       " 'B2 R8 R5 W1 W2 W6',\n",
       " 'B5 R1 B3 R9 B4 R6',\n",
       " 'B5 W5 R1 W2 W4 W8',\n",
       " 'B5 R8 R2 R3 W3 B1',\n",
       " 'R1 B3 W1 W4 B1 R6',\n",
       " 'B2 W5 R8 R5 W1 R6',\n",
       " 'R8 R4 W3 R9 W8 B1',\n",
       " 'R7 W3 R9 W4 B1 R6',\n",
       " 'W5 R1 R2 W8 R6 W6',\n",
       " 'B5 B2 R1 W1 R6 W6',\n",
       " 'B5 R1 W7 R5 B4 B1',\n",
       " 'B5 R2 R3 R7 B4 R6',\n",
       " 'R2 W7 W1 W4 W8 W6',\n",
       " 'B5 W5 B3 R4 W1 B6',\n",
       " 'R8 B3 W1 R7 W3 W4',\n",
       " 'R4 R5 W1 W3 B6 W2',\n",
       " 'R8 W7 W1 W3 R9 B1',\n",
       " 'B2 W5 W3 B6 W4 W6',\n",
       " 'B5 W1 R7 W3 W4 R6',\n",
       " 'B5 W7 R5 R7 W3 R6',\n",
       " 'R3 R9 B6 W4 W8 W6',\n",
       " 'B2 R1 R2 R5 W1 W3',\n",
       " 'B2 B3 R4 R3 B4 R6',\n",
       " 'R4 R7 W3 B6 W2 R6',\n",
       " 'B5 R1 R8 R2 R5 B1',\n",
       " 'B5 R4 R5 R9 W4 W6',\n",
       " 'B2 W5 R2 W7 R4 W8',\n",
       " 'R1 R2 R3 W3 B6 B1',\n",
       " 'B3 R4 W1 B6 W2 B1',\n",
       " 'W5 R8 B3 W3 B6 B1',\n",
       " 'R8 W7 R3 W3 R9 W4',\n",
       " 'B5 B2 R1 R4 R5 W3',\n",
       " 'R1 W7 W3 B6 R6 W6',\n",
       " 'R8 R5 R3 W2 W4 W6',\n",
       " 'B5 B3 W7 W1 R7 B1',\n",
       " 'R1 B3 R3 W3 W2 W4',\n",
       " 'B2 R8 W7 W3 B1 W6',\n",
       " 'B2 W7 R5 W3 R9 W8',\n",
       " 'B3 R4 W3 B6 W8 B4',\n",
       " 'R8 R7 W3 R9 W2 W4',\n",
       " 'B5 B2 W5 R1 B6 R6',\n",
       " 'R2 B3 R4 W1 R7 W4',\n",
       " 'B5 B2 R5 B6 W8 R6',\n",
       " 'B5 W5 W7 R3 B6 W2',\n",
       " 'R2 B3 W7 R3 W2 W8',\n",
       " 'B2 R2 R3 W2 B1 R6',\n",
       " 'R1 B3 R3 R7 W3 W4',\n",
       " 'W5 R3 B4 B1 R6 W6',\n",
       " 'R1 R8 B3 W1 R9 R6',\n",
       " 'B5 B2 W5 W1 W4 B4',\n",
       " 'B5 R2 R4 R9 B1 R6',\n",
       " 'B2 W5 B3 W7 R5 B6',\n",
       " 'R5 R3 W3 W4 W8 R6',\n",
       " 'W5 R2 R5 R3 R9 B4',\n",
       " 'B2 W5 R2 R3 R9 B4',\n",
       " 'B3 W1 R3 R7 B6 R6',\n",
       " 'W5 R2 R4 R7 B1 R6',\n",
       " 'B2 R8 R3 B6 W2 W4',\n",
       " 'R1 R4 W1 R3 W4 B4',\n",
       " 'R8 B3 W7 W4 B4 B1',\n",
       " 'R8 R4 W1 R7 R9 B6',\n",
       " 'R2 R4 W3 B6 B4 B1',\n",
       " 'B3 W7 R4 R5 B6 B1',\n",
       " 'B2 R8 B3 R5 R3 W4',\n",
       " 'W5 R5 W2 W4 W8 B4',\n",
       " 'W5 R1 R2 R4 R5 B6',\n",
       " 'B5 R1 W3 B6 W2 B4',\n",
       " 'B2 W5 R1 R8 R9 B6',\n",
       " 'W7 R4 R9 B6 B4 B1',\n",
       " 'R8 R3 R7 W2 W4 B4',\n",
       " 'B5 B2 R8 B3 W7 B1',\n",
       " 'R1 R5 W1 R3 W3 B6',\n",
       " 'B5 R8 W1 R7 B6 W4',\n",
       " 'R2 W7 W4 B4 B1 R6',\n",
       " 'B5 R1 R3 R7 B6 W2',\n",
       " 'B2 B3 B6 W4 W8 B4',\n",
       " 'W5 R4 R3 R7 B1 W6',\n",
       " 'R2 R5 W3 R9 W4 B4',\n",
       " 'B2 R8 W1 R7 W4 B1',\n",
       " 'R4 W3 R9 B6 W8 B1',\n",
       " 'B5 R1 B3 R3 W2 R6',\n",
       " 'B2 R1 R8 W1 R9 W6',\n",
       " 'W5 R1 R5 W3 W2 R6',\n",
       " 'R2 W7 W1 B6 W2 B1',\n",
       " 'W5 B3 R5 W3 B6 W2',\n",
       " 'R1 R8 R2 R4 W3 W4',\n",
       " 'W5 R1 W7 R3 W4 W6',\n",
       " 'W5 R1 R5 R3 W3 B1',\n",
       " 'R2 B3 R5 R9 W8 R6',\n",
       " 'W5 R8 B3 R9 B6 R6',\n",
       " 'W5 B3 R4 W3 W4 W8',\n",
       " 'B5 R5 W1 R9 W2 W6',\n",
       " 'W3 B6 W2 W8 B1 R6',\n",
       " 'R8 R2 R5 R9 W2 B4',\n",
       " 'B5 W5 R4 R5 W1 B4',\n",
       " 'B5 B3 R3 R7 R9 W4',\n",
       " 'R1 R8 W7 R7 R9 B1',\n",
       " 'B3 W7 R4 W4 B4 B1',\n",
       " 'B2 R4 R5 R7 W2 W8',\n",
       " 'B3 W7 R7 R9 W2 W8',\n",
       " 'B5 R5 W1 W4 R6 W6',\n",
       " 'B2 W7 R4 R5 W1 R7',\n",
       " 'R1 R8 W1 W3 B1 W6',\n",
       " 'R8 B3 R7 W3 B6 B1',\n",
       " 'B2 W5 R2 R9 W4 B1',\n",
       " 'B5 R4 R5 W1 R6 W6',\n",
       " 'B2 B3 R5 R3 W8 B1',\n",
       " 'W5 R1 R5 W3 W8 B4',\n",
       " 'B5 B2 R2 W7 R5 W1',\n",
       " 'B5 B3 R4 R7 W8 R6',\n",
       " 'B2 W5 W1 W3 W8 W6',\n",
       " 'B3 R5 R3 W2 W8 R6',\n",
       " 'R5 W1 W2 W4 B4 R6',\n",
       " 'B2 R8 W1 R9 B4 R6',\n",
       " 'B2 R4 R9 B6 W8 B1',\n",
       " 'R8 R2 W1 W2 W4 B4',\n",
       " 'W5 R1 R3 R9 W8 W6',\n",
       " 'B2 R1 R8 R3 W2 B4',\n",
       " 'B5 B2 R8 R7 W3 W6',\n",
       " 'B2 R8 W7 R4 R9 W2',\n",
       " 'B5 W7 R3 R9 W4 W6',\n",
       " 'B2 R4 W8 B4 B1 W6',\n",
       " 'R8 W7 R5 W1 B4 W6',\n",
       " 'R8 B3 R3 W3 B6 R6',\n",
       " 'W5 R4 R3 W3 B1 W6',\n",
       " 'B3 W1 W4 B1 R6 W6',\n",
       " 'R2 B3 W7 R4 B6 R6',\n",
       " 'R2 B3 R5 R3 B4 R6',\n",
       " 'B2 R1 R5 R3 B6 W6',\n",
       " 'B3 R3 R7 W3 R9 W6',\n",
       " 'B5 R5 W1 R9 B4 W6',\n",
       " 'B2 R5 R7 W3 R9 W4',\n",
       " 'B2 W5 R8 R5 R7 B6',\n",
       " 'B3 W7 R5 W1 R9 W4',\n",
       " 'B2 W5 R5 W8 B1 R6',\n",
       " 'B2 W5 W7 W1 R6 W6',\n",
       " 'B5 R1 R2 R5 R3 W8',\n",
       " ...}"
      ]
     },
     "execution_count": 22,
     "metadata": {},
     "output_type": "execute_result"
    }
   ],
   "source": [
    "U6"
   ]
  },
  {
   "cell_type": "code",
   "execution_count": 23,
   "metadata": {},
   "outputs": [
    {
     "data": {
      "text/plain": [
       "['B5 W7 W1 W2 B4 R6',\n",
       " 'B5 B2 R8 R5 W1 B6',\n",
       " 'B5 B2 W5 W4 W8 B1',\n",
       " 'W7 W1 R7 B6 W8 B4',\n",
       " 'B2 W5 W7 B6 W4 R6',\n",
       " 'R2 R5 W3 W2 B4 R6',\n",
       " 'R2 W7 R4 R5 W2 W4',\n",
       " 'B5 R1 R8 R4 R5 R6',\n",
       " 'B2 R5 R3 W3 W8 B4',\n",
       " 'B5 B2 W5 R2 B4 R6']"
      ]
     },
     "execution_count": 23,
     "metadata": {},
     "output_type": "execute_result"
    }
   ],
   "source": [
    "import random\n",
    "\n",
    "random.sample(U6, 10)"
   ]
  },
  {
   "cell_type": "code",
   "execution_count": 24,
   "metadata": {},
   "outputs": [],
   "source": [
    "from math import factorial\n",
    "\n",
    "def choose(n, c):\n",
    "    \"Number of ways to choose c items from a list of n items.\"\n",
    "    return factorial(n) // (factorial(n - c) * factorial(c))"
   ]
  },
  {
   "cell_type": "code",
   "execution_count": null,
   "metadata": {},
   "outputs": [],
   "source": []
  },
  {
   "cell_type": "code",
   "execution_count": 25,
   "metadata": {},
   "outputs": [
    {
     "data": {
      "text/plain": [
       "100947"
      ]
     },
     "execution_count": 25,
     "metadata": {},
     "output_type": "execute_result"
    }
   ],
   "source": [
    "choose(23, 6)"
   ]
  },
  {
   "cell_type": "code",
   "execution_count": 26,
   "metadata": {},
   "outputs": [
    {
     "data": {
      "text/plain": [
       "Fraction(4, 4807)"
      ]
     },
     "execution_count": 26,
     "metadata": {},
     "output_type": "execute_result"
    }
   ],
   "source": [
    "# 빨간 공만 6개 뽑을 확률 -> 빨간 공이 총 9개이고 그 중에 6개만 뽑을 확률 9C6 = 9! / 3! * 6! = 84\n",
    "red6 = {s for s in U6 if s.count('R') == 6}\n",
    "\n",
    "P(red6, U6)"
   ]
  },
  {
   "cell_type": "code",
   "execution_count": 27,
   "metadata": {},
   "outputs": [
    {
     "data": {
      "text/plain": [
       "84"
      ]
     },
     "execution_count": 27,
     "metadata": {},
     "output_type": "execute_result"
    }
   ],
   "source": [
    "len(red6)"
   ]
  },
  {
   "cell_type": "code",
   "execution_count": 28,
   "metadata": {},
   "outputs": [
    {
     "data": {
      "text/plain": [
       "84"
      ]
     },
     "execution_count": 28,
     "metadata": {},
     "output_type": "execute_result"
    }
   ],
   "source": [
    "choose(9, 6)"
   ]
  },
  {
   "cell_type": "code",
   "execution_count": 29,
   "metadata": {},
   "outputs": [
    {
     "data": {
      "text/plain": [
       "True"
      ]
     },
     "execution_count": 29,
     "metadata": {},
     "output_type": "execute_result"
    }
   ],
   "source": [
    "P(red6, U6) == Fraction(choose(9, 6), \n",
    "                        len(U6))"
   ]
  },
  {
   "cell_type": "code",
   "execution_count": 31,
   "metadata": {},
   "outputs": [
    {
     "data": {
      "text/plain": [
       "Fraction(240, 4807)"
      ]
     },
     "execution_count": 31,
     "metadata": {},
     "output_type": "execute_result"
    }
   ],
   "source": [
    "# 파란 공 3개, 하얀 공 2개, 빨간 공 1개 뽑을 확률\n",
    "# 6C3 * 8C2 * 9C1 = 5040\n",
    "b3w2r1 = {s for s in U6 if\n",
    "          s.count('B') == 3 and s.count('W') == 2 and s.count('R') == 1}\n",
    "\n",
    "P(b3w2r1, U6)"
   ]
  },
  {
   "cell_type": "code",
   "execution_count": 33,
   "metadata": {},
   "outputs": [
    {
     "data": {
      "text/plain": [
       "5040"
      ]
     },
     "execution_count": 33,
     "metadata": {},
     "output_type": "execute_result"
    }
   ],
   "source": [
    "len(b3w2r1)"
   ]
  },
  {
   "cell_type": "code",
   "execution_count": 34,
   "metadata": {},
   "outputs": [
    {
     "data": {
      "text/plain": [
       "Fraction(240, 4807)"
      ]
     },
     "execution_count": 34,
     "metadata": {},
     "output_type": "execute_result"
    }
   ],
   "source": [
    "Fraction(choose(6, 3) * choose(8, 2) * choose(9, 1), \n",
    "                          len(U6))"
   ]
  },
  {
   "cell_type": "code",
   "execution_count": 35,
   "metadata": {},
   "outputs": [
    {
     "data": {
      "text/plain": [
       "True"
      ]
     },
     "execution_count": 35,
     "metadata": {},
     "output_type": "execute_result"
    }
   ],
   "source": [
    "P(b3w2r1, U6) == Fraction(choose(6, 3) * choose(8, 2) * choose(9, 1), \n",
    "                          len(U6))"
   ]
  },
  {
   "cell_type": "code",
   "execution_count": 36,
   "metadata": {},
   "outputs": [
    {
     "data": {
      "text/plain": [
       "True"
      ]
     },
     "execution_count": 36,
     "metadata": {},
     "output_type": "execute_result"
    }
   ],
   "source": [
    "P(b3w2r1, U6) == Fraction((6 * 5 * 4) * (8 * 7) * 9, \n",
    "                           factorial(3) * factorial(2) * len(U6))"
   ]
  },
  {
   "cell_type": "code",
   "execution_count": 37,
   "metadata": {},
   "outputs": [
    {
     "data": {
      "text/plain": [
       "Fraction(350, 4807)"
      ]
     },
     "execution_count": 37,
     "metadata": {},
     "output_type": "execute_result"
    }
   ],
   "source": [
    "w4 = {s for s in U6 if\n",
    "      s.count('W') == 4}\n",
    "\n",
    "P(w4, U6)"
   ]
  },
  {
   "cell_type": "code",
   "execution_count": 38,
   "metadata": {},
   "outputs": [],
   "source": [
    "# 4개의 하얀 공만 뽑을 확률 \n",
    "# 하얀 공 8개 중에 4개 뽑을 확률 * 나머지 15개의 공 중에 2개만 뽑을 확률 \n",
    "# 8C4 * 15C2"
   ]
  },
  {
   "cell_type": "code",
   "execution_count": 39,
   "metadata": {},
   "outputs": [
    {
     "data": {
      "text/plain": [
       "Fraction(350, 4807)"
      ]
     },
     "execution_count": 39,
     "metadata": {},
     "output_type": "execute_result"
    }
   ],
   "source": [
    "w4 = {s for s in U6 if\n",
    "      s.count('W') == 4}\n",
    "\n",
    "P(w4, U6)"
   ]
  },
  {
   "cell_type": "code",
   "execution_count": 40,
   "metadata": {},
   "outputs": [
    {
     "data": {
      "text/plain": [
       "7350"
      ]
     },
     "execution_count": 40,
     "metadata": {},
     "output_type": "execute_result"
    }
   ],
   "source": [
    "len(w4)"
   ]
  },
  {
   "cell_type": "code",
   "execution_count": 41,
   "metadata": {},
   "outputs": [
    {
     "data": {
      "text/plain": [
       "True"
      ]
     },
     "execution_count": 41,
     "metadata": {},
     "output_type": "execute_result"
    }
   ],
   "source": [
    "P(w4, U6) == Fraction(choose(8, 4) * choose(15, 2),\n",
    "                      len(U6))"
   ]
  },
  {
   "cell_type": "code",
   "execution_count": 42,
   "metadata": {},
   "outputs": [
    {
     "data": {
      "text/plain": [
       "True"
      ]
     },
     "execution_count": 42,
     "metadata": {},
     "output_type": "execute_result"
    }
   ],
   "source": [
    "P(w4, U6) == Fraction((8 * 7 * 6 * 5) * (15 * 14),\n",
    "                      factorial(4) * factorial(2) * len(U6))"
   ]
  },
  {
   "cell_type": "code",
   "execution_count": null,
   "metadata": {},
   "outputs": [],
   "source": []
  }
 ],
 "metadata": {
  "kernelspec": {
   "display_name": "Python 3",
   "language": "python",
   "name": "python3"
  },
  "language_info": {
   "codemirror_mode": {
    "name": "ipython",
    "version": 3
   },
   "file_extension": ".py",
   "mimetype": "text/x-python",
   "name": "python",
   "nbconvert_exporter": "python",
   "pygments_lexer": "ipython3",
   "version": "3.7.3"
  },
  "varInspector": {
   "cols": {
    "lenName": 16,
    "lenType": 16,
    "lenVar": 40
   },
   "kernels_config": {
    "python": {
     "delete_cmd_postfix": "",
     "delete_cmd_prefix": "del ",
     "library": "var_list.py",
     "varRefreshCmd": "print(var_dic_list())"
    },
    "r": {
     "delete_cmd_postfix": ") ",
     "delete_cmd_prefix": "rm(",
     "library": "var_list.r",
     "varRefreshCmd": "cat(var_dic_list()) "
    }
   },
   "types_to_exclude": [
    "module",
    "function",
    "builtin_function_or_method",
    "instance",
    "_Feature"
   ],
   "window_display": false
  }
 },
 "nbformat": 4,
 "nbformat_minor": 2
}
