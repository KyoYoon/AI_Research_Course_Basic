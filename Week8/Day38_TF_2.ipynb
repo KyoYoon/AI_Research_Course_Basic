{
 "cells": [
  {
   "cell_type": "code",
   "execution_count": 1,
   "metadata": {},
   "outputs": [
    {
     "name": "stdout",
     "output_type": "stream",
     "text": [
      "Collecting tpot\n",
      "\u001b[?25l  Downloading https://files.pythonhosted.org/packages/15/c8/46f5c7231f8e3088052cda78ed36198f9ded9f5a5edfc99290f31aa6b57e/TPOT-0.10.1-py3-none-any.whl (74kB)\n",
      "\u001b[K    100% |████████████████████████████████| 81kB 911kB/s ta 0:00:011\n",
      "\u001b[?25hRequirement already satisfied: numpy>=1.12.1 in /Users/jung-kyoyoon/anaconda3/lib/python3.7/site-packages (from tpot) (1.16.2)\n",
      "Requirement already satisfied: tqdm>=4.26.0 in /Users/jung-kyoyoon/anaconda3/lib/python3.7/site-packages (from tpot) (4.31.1)\n",
      "Requirement already satisfied: scikit-learn>=0.18.1 in /Users/jung-kyoyoon/anaconda3/lib/python3.7/site-packages (from tpot) (0.20.3)\n",
      "Requirement already satisfied: pandas>=0.20.2 in /Users/jung-kyoyoon/anaconda3/lib/python3.7/site-packages (from tpot) (0.24.2)\n",
      "Collecting deap>=1.0 (from tpot)\n",
      "\u001b[?25l  Downloading https://files.pythonhosted.org/packages/af/29/e7f2ecbe02997b16a768baed076f5fc4781d7057cd5d9adf7c94027845ba/deap-1.2.2.tar.gz (936kB)\n",
      "\u001b[K    100% |████████████████████████████████| 942kB 13.1MB/s ta 0:00:01\n",
      "\u001b[?25hCollecting update-checker>=0.16 (from tpot)\n",
      "  Downloading https://files.pythonhosted.org/packages/17/c9/ab11855af164d03be0ff4fddd4c46a5bd44799a9ecc1770e01a669c21168/update_checker-0.16-py2.py3-none-any.whl\n",
      "Collecting stopit>=1.1.1 (from tpot)\n",
      "  Downloading https://files.pythonhosted.org/packages/35/58/e8bb0b0fb05baf07bbac1450c447d753da65f9701f551dca79823ce15d50/stopit-1.1.2.tar.gz\n",
      "Requirement already satisfied: scipy>=0.19.0 in /Users/jung-kyoyoon/anaconda3/lib/python3.7/site-packages (from tpot) (1.2.1)\n",
      "Requirement already satisfied: pytz>=2011k in /Users/jung-kyoyoon/anaconda3/lib/python3.7/site-packages (from pandas>=0.20.2->tpot) (2018.9)\n",
      "Requirement already satisfied: python-dateutil>=2.5.0 in /Users/jung-kyoyoon/anaconda3/lib/python3.7/site-packages (from pandas>=0.20.2->tpot) (2.8.0)\n",
      "Requirement already satisfied: requests>=2.3.0 in /Users/jung-kyoyoon/anaconda3/lib/python3.7/site-packages (from update-checker>=0.16->tpot) (2.21.0)\n",
      "Requirement already satisfied: six>=1.5 in /Users/jung-kyoyoon/anaconda3/lib/python3.7/site-packages (from python-dateutil>=2.5.0->pandas>=0.20.2->tpot) (1.12.0)\n",
      "Requirement already satisfied: certifi>=2017.4.17 in /Users/jung-kyoyoon/anaconda3/lib/python3.7/site-packages (from requests>=2.3.0->update-checker>=0.16->tpot) (2019.3.9)\n",
      "Requirement already satisfied: urllib3<1.25,>=1.21.1 in /Users/jung-kyoyoon/anaconda3/lib/python3.7/site-packages (from requests>=2.3.0->update-checker>=0.16->tpot) (1.24.1)\n",
      "Requirement already satisfied: idna<2.9,>=2.5 in /Users/jung-kyoyoon/anaconda3/lib/python3.7/site-packages (from requests>=2.3.0->update-checker>=0.16->tpot) (2.8)\n",
      "Requirement already satisfied: chardet<3.1.0,>=3.0.2 in /Users/jung-kyoyoon/anaconda3/lib/python3.7/site-packages (from requests>=2.3.0->update-checker>=0.16->tpot) (3.0.4)\n",
      "Building wheels for collected packages: deap, stopit\n",
      "  Building wheel for deap (setup.py) ... \u001b[?25ldone\n",
      "\u001b[?25h  Stored in directory: /Users/jung-kyoyoon/Library/Caches/pip/wheels/22/ea/bf/dc7c8a2262025a0ab5da9ef02282c198be88902791ca0c6658\n",
      "  Building wheel for stopit (setup.py) ... \u001b[?25ldone\n",
      "\u001b[?25h  Stored in directory: /Users/jung-kyoyoon/Library/Caches/pip/wheels/3c/85/2b/2580190404636bfc63e8de3dff629c03bb795021e1983a6cc7\n",
      "Successfully built deap stopit\n",
      "Installing collected packages: deap, update-checker, stopit, tpot\n",
      "Successfully installed deap-1.2.2 stopit-1.1.2 tpot-0.10.1 update-checker-0.16\n"
     ]
    }
   ],
   "source": [
    "!pip install tpot"
   ]
  },
  {
   "cell_type": "code",
   "execution_count": 1,
   "metadata": {},
   "outputs": [],
   "source": [
    "import seaborn as sns\n",
    "from sklearn.model_selection import train_test_split"
   ]
  },
  {
   "cell_type": "code",
   "execution_count": 2,
   "metadata": {},
   "outputs": [],
   "source": [
    "iris = sns.load_dataset('iris')"
   ]
  },
  {
   "cell_type": "code",
   "execution_count": 3,
   "metadata": {},
   "outputs": [],
   "source": [
    "iris.species = iris.species.map({'setosa':0, 'virginica':1, 'versicolor':2})"
   ]
  },
  {
   "cell_type": "code",
   "execution_count": 4,
   "metadata": {},
   "outputs": [],
   "source": [
    "X_train, X_test, y_train, y_test = train_test_split(iris.iloc[:,:-1],iris.iloc[:,-1])"
   ]
  },
  {
   "cell_type": "code",
   "execution_count": null,
   "metadata": {},
   "outputs": [],
   "source": []
  },
  {
   "cell_type": "code",
   "execution_count": 5,
   "metadata": {},
   "outputs": [],
   "source": [
    "from tpot import TPOTClassifier"
   ]
  },
  {
   "cell_type": "code",
   "execution_count": 6,
   "metadata": {},
   "outputs": [],
   "source": [
    "tpot = TPOTClassifier(10,10)"
   ]
  },
  {
   "cell_type": "code",
   "execution_count": 7,
   "metadata": {},
   "outputs": [
    {
     "name": "stdout",
     "output_type": "stream",
     "text": [
      "Warning: xgboost.XGBClassifier is not available and will not be used by TPOT.\n"
     ]
    },
    {
     "data": {
      "text/plain": [
       "TPOTClassifier(config_dict=None, crossover_rate=0.1, cv=5,\n",
       "        disable_update_check=False, early_stop=None, generations=10,\n",
       "        max_eval_time_mins=5, max_time_mins=None, memory=None,\n",
       "        mutation_rate=0.9, n_jobs=1, offspring_size=None,\n",
       "        periodic_checkpoint_folder=None, population_size=10,\n",
       "        random_state=None, scoring=None, subsample=1.0,\n",
       "        template='RandomTree', use_dask=False, verbosity=0,\n",
       "        warm_start=False)"
      ]
     },
     "execution_count": 7,
     "metadata": {},
     "output_type": "execute_result"
    }
   ],
   "source": [
    "tpot.fit(X_train, y_train) # 유전자 알고리즘을 사용 "
   ]
  },
  {
   "cell_type": "code",
   "execution_count": 8,
   "metadata": {},
   "outputs": [
    {
     "data": {
      "text/plain": [
       "1.0"
      ]
     },
     "execution_count": 8,
     "metadata": {},
     "output_type": "execute_result"
    }
   ],
   "source": [
    "tpot.score(X_test,y_test)"
   ]
  },
  {
   "cell_type": "code",
   "execution_count": 9,
   "metadata": {},
   "outputs": [
    {
     "data": {
      "text/plain": [
       "['__class__',\n",
       " '__delattr__',\n",
       " '__dict__',\n",
       " '__dir__',\n",
       " '__doc__',\n",
       " '__eq__',\n",
       " '__format__',\n",
       " '__ge__',\n",
       " '__getattribute__',\n",
       " '__getstate__',\n",
       " '__gt__',\n",
       " '__hash__',\n",
       " '__init__',\n",
       " '__init_subclass__',\n",
       " '__le__',\n",
       " '__lt__',\n",
       " '__module__',\n",
       " '__ne__',\n",
       " '__new__',\n",
       " '__reduce__',\n",
       " '__reduce_ex__',\n",
       " '__repr__',\n",
       " '__setattr__',\n",
       " '__setstate__',\n",
       " '__sizeof__',\n",
       " '__str__',\n",
       " '__subclasshook__',\n",
       " '__weakref__',\n",
       " '_add_operators',\n",
       " '_add_terminals',\n",
       " '_check_dataset',\n",
       " '_check_periodic_pipeline',\n",
       " '_cleanup_memory',\n",
       " '_combine_individual_stats',\n",
       " '_compile_to_sklearn',\n",
       " '_config_dict',\n",
       " '_create_periodic_checkpoint_folder',\n",
       " '_evaluate_individuals',\n",
       " '_exported_pipeline_text',\n",
       " '_file',\n",
       " '_fit_init',\n",
       " '_fitted_imputer',\n",
       " '_gen_grow_safe',\n",
       " '_generate',\n",
       " '_get_param_names',\n",
       " '_import_hash',\n",
       " '_import_hash_and_add_terminals',\n",
       " '_impute_values',\n",
       " '_imputed',\n",
       " '_lambda',\n",
       " '_last_optimized_pareto_front',\n",
       " '_last_optimized_pareto_front_n_gens',\n",
       " '_last_pipeline_write',\n",
       " '_mate_operator',\n",
       " '_max',\n",
       " '_max_mut_loops',\n",
       " '_memory',\n",
       " '_min',\n",
       " '_n_jobs',\n",
       " '_operator_count',\n",
       " '_optimized_pipeline',\n",
       " '_optimized_pipeline_score',\n",
       " '_output_best_pipeline_period_seconds',\n",
       " '_pareto_front',\n",
       " '_pbar',\n",
       " '_pop',\n",
       " '_preprocess_individuals',\n",
       " '_pset',\n",
       " '_random_mutation_operator',\n",
       " '_read_config_file',\n",
       " '_save_periodic_pipeline',\n",
       " '_set_param_recursive',\n",
       " '_setup_config',\n",
       " '_setup_memory',\n",
       " '_setup_pset',\n",
       " '_setup_scoring_function',\n",
       " '_setup_template',\n",
       " '_setup_toolbox',\n",
       " '_start_datetime',\n",
       " '_stop_by_max_time_mins',\n",
       " '_summary_of_best_pipeline',\n",
       " '_toolbox',\n",
       " '_update_evaluated_individuals_',\n",
       " '_update_pbar',\n",
       " '_update_top_pipeline',\n",
       " '_update_val',\n",
       " 'arguments',\n",
       " 'classification',\n",
       " 'clean_pipeline_string',\n",
       " 'config_dict',\n",
       " 'crossover_rate',\n",
       " 'cv',\n",
       " 'default_config_dict',\n",
       " 'disable_update_check',\n",
       " 'early_stop',\n",
       " 'evaluated_individuals_',\n",
       " 'export',\n",
       " 'fit',\n",
       " 'fit_predict',\n",
       " 'fitted_pipeline_',\n",
       " 'generations',\n",
       " 'get_params',\n",
       " 'max_eval_time_mins',\n",
       " 'max_time_mins',\n",
       " 'memory',\n",
       " 'mutation_rate',\n",
       " 'n_jobs',\n",
       " 'offspring_size',\n",
       " 'op_list',\n",
       " 'operators',\n",
       " 'operators_context',\n",
       " 'pareto_front_fitted_pipelines_',\n",
       " 'periodic_checkpoint_folder',\n",
       " 'population_size',\n",
       " 'predict',\n",
       " 'predict_proba',\n",
       " 'pretest_X',\n",
       " 'pretest_y',\n",
       " 'random_state',\n",
       " 'regression',\n",
       " 'ret_types',\n",
       " 'score',\n",
       " 'scoring',\n",
       " 'scoring_function',\n",
       " 'set_params',\n",
       " 'subsample',\n",
       " 'template',\n",
       " 'template_comp',\n",
       " 'tree_structure',\n",
       " 'use_dask',\n",
       " 'verbosity',\n",
       " 'warm_start']"
      ]
     },
     "execution_count": 9,
     "metadata": {},
     "output_type": "execute_result"
    }
   ],
   "source": [
    "dir(tpot)"
   ]
  },
  {
   "cell_type": "code",
   "execution_count": 11,
   "metadata": {},
   "outputs": [
    {
     "data": {
      "text/plain": [
       "<bound method TPOTBase.export of TPOTClassifier(config_dict=None, crossover_rate=0.1, cv=5,\n",
       "        disable_update_check=False, early_stop=None, generations=10,\n",
       "        max_eval_time_mins=5, max_time_mins=None, memory=None,\n",
       "        mutation_rate=0.9, n_jobs=1, offspring_size=None,\n",
       "        periodic_checkpoint_folder=None, population_size=10,\n",
       "        random_state=None, scoring=None, subsample=1.0,\n",
       "        template='RandomTree', use_dask=False, verbosity=0,\n",
       "        warm_start=False)>"
      ]
     },
     "execution_count": 11,
     "metadata": {},
     "output_type": "execute_result"
    }
   ],
   "source": [
    "tpot.export"
   ]
  },
  {
   "cell_type": "code",
   "execution_count": 12,
   "metadata": {},
   "outputs": [],
   "source": [
    "tpot.export('moon.py')"
   ]
  },
  {
   "cell_type": "code",
   "execution_count": null,
   "metadata": {},
   "outputs": [],
   "source": []
  }
 ],
 "metadata": {
  "kernelspec": {
   "display_name": "Python 3",
   "language": "python",
   "name": "python3"
  },
  "language_info": {
   "codemirror_mode": {
    "name": "ipython",
    "version": 3
   },
   "file_extension": ".py",
   "mimetype": "text/x-python",
   "name": "python",
   "nbconvert_exporter": "python",
   "pygments_lexer": "ipython3",
   "version": "3.7.3"
  },
  "varInspector": {
   "cols": {
    "lenName": 16,
    "lenType": 16,
    "lenVar": 40
   },
   "kernels_config": {
    "python": {
     "delete_cmd_postfix": "",
     "delete_cmd_prefix": "del ",
     "library": "var_list.py",
     "varRefreshCmd": "print(var_dic_list())"
    },
    "r": {
     "delete_cmd_postfix": ") ",
     "delete_cmd_prefix": "rm(",
     "library": "var_list.r",
     "varRefreshCmd": "cat(var_dic_list()) "
    }
   },
   "types_to_exclude": [
    "module",
    "function",
    "builtin_function_or_method",
    "instance",
    "_Feature"
   ],
   "window_display": false
  }
 },
 "nbformat": 4,
 "nbformat_minor": 2
}
