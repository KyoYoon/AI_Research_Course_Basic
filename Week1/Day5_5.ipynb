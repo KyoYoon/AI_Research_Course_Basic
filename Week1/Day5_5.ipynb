{
 "cells": [
  {
   "cell_type": "code",
   "execution_count": 1,
   "metadata": {},
   "outputs": [],
   "source": [
    "import sys"
   ]
  },
  {
   "cell_type": "code",
   "execution_count": 2,
   "metadata": {},
   "outputs": [
    {
     "data": {
      "text/plain": [
       "['/Users/jung-kyoyoon',\n",
       " '/Users/jung-kyoyoon/anaconda3/lib/python37.zip',\n",
       " '/Users/jung-kyoyoon/anaconda3/lib/python3.7',\n",
       " '/Users/jung-kyoyoon/anaconda3/lib/python3.7/lib-dynload',\n",
       " '',\n",
       " '/Users/jung-kyoyoon/anaconda3/lib/python3.7/site-packages',\n",
       " '/Users/jung-kyoyoon/anaconda3/lib/python3.7/site-packages/aeosa',\n",
       " '/Users/jung-kyoyoon/anaconda3/lib/python3.7/site-packages/IPython/extensions',\n",
       " '/Users/jung-kyoyoon/.ipython']"
      ]
     },
     "execution_count": 2,
     "metadata": {},
     "output_type": "execute_result"
    }
   ],
   "source": [
    "sys.path"
   ]
  },
  {
   "cell_type": "code",
   "execution_count": null,
   "metadata": {},
   "outputs": [],
   "source": []
  }
 ],
 "metadata": {
  "kernelspec": {
   "display_name": "Python 3",
   "language": "python",
   "name": "python3"
  },
  "language_info": {
   "codemirror_mode": {
    "name": "ipython",
    "version": 3
   },
   "file_extension": ".py",
   "mimetype": "text/x-python",
   "name": "python",
   "nbconvert_exporter": "python",
   "pygments_lexer": "ipython3",
   "version": "3.7.1"
  }
 },
 "nbformat": 4,
 "nbformat_minor": 2
}
