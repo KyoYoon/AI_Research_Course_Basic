{
 "cells": [
  {
   "cell_type": "markdown",
   "metadata": {},
   "source": [
    "### Python 데이터 타입 정리 노트 (작성자: 정교윤)"
   ]
  },
  {
   "cell_type": "markdown",
   "metadata": {},
   "source": [
    "---"
   ]
  },
  {
   "cell_type": "markdown",
   "metadata": {},
   "source": [
    "| Data Type        | Sequence Type  | Mutable  | Iterable  |\n",
    "| ------------- |-----------| -----| -----|\n",
    "| Integer     | X             |                X |                X |\n",
    "| Float       | X             |                X |                X |\n",
    "| Complex     | X             |                X |                X |\n",
    "| Bool        | X             |                X |                X |\n",
    "| Str         | O             |                X |                O |\n",
    "| Bytes       | X             |                X |                O |\n",
    "| Bytes Array | O             |                O |                O |\n",
    "| List        | O             |                O |                O |\n",
    "| Tuple       | O             |                X |                O |\n",
    "| Dictionary  | O             |                1 |                O |\n",
    "| Range       | are neat      |                1 |                O |\n",
    "| Set         | are neat      |                1 |                O |\n",
    "| FrozenSet   | are neat      |                1 |                O |"
   ]
  },
  {
   "cell_type": "code",
   "execution_count": null,
   "metadata": {},
   "outputs": [],
   "source": []
  }
 ],
 "metadata": {
  "kernelspec": {
   "display_name": "Python 3",
   "language": "python",
   "name": "python3"
  },
  "language_info": {
   "codemirror_mode": {
    "name": "ipython",
    "version": 3
   },
   "file_extension": ".py",
   "mimetype": "text/x-python",
   "name": "python",
   "nbconvert_exporter": "python",
   "pygments_lexer": "ipython3",
   "version": "3.7.1"
  }
 },
 "nbformat": 4,
 "nbformat_minor": 2
}
