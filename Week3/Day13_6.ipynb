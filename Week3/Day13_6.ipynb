{
 "cells": [
  {
   "cell_type": "markdown",
   "metadata": {},
   "source": [
    "### Pickle -> 객체의 결과를 저장하는 기법 (ndarray의 인스턴스 생성 기법 => 객체 관련 파일을 불러들어오기)"
   ]
  },
  {
   "cell_type": "code",
   "execution_count": 1,
   "metadata": {},
   "outputs": [],
   "source": [
    "import numpy as np"
   ]
  },
  {
   "cell_type": "code",
   "execution_count": 2,
   "metadata": {},
   "outputs": [],
   "source": [
    "a = np.array([1,2,3,])"
   ]
  },
  {
   "cell_type": "code",
   "execution_count": 5,
   "metadata": {},
   "outputs": [],
   "source": [
    "b = np.save('sun',a)"
   ]
  },
  {
   "cell_type": "code",
   "execution_count": 6,
   "metadata": {},
   "outputs": [
    {
     "name": "stdout",
     "output_type": "stream",
     "text": [
      "Accumulation Pattern.ipynb\r\n",
      "Day1.ipynb\r\n",
      "Day10_1.ipynb\r\n",
      "Day10_2.ipynb\r\n",
      "Day10_3.ipynb\r\n",
      "Day10_4.ipynb\r\n",
      "Day10_5.ipynb\r\n",
      "Day10_6.ipynb\r\n",
      "Day10_7.ipynb\r\n",
      "Day10_8.ipynb\r\n",
      "Day12_1.ipynb\r\n",
      "Day12_2.ipynb\r\n",
      "Day12_3.ipynb\r\n",
      "Day13_1.ipynb\r\n",
      "Day13_2.ipynb\r\n",
      "Day13_3.ipynb\r\n",
      "Day13_4.ipynb\r\n",
      "Day13_5.ipynb\r\n",
      "Day2.ipynb\r\n",
      "Day3.ipynb\r\n",
      "Day4_1.ipynb\r\n",
      "Day4_2.ipynb\r\n",
      "Day5_1.ipynb\r\n",
      "Day5_2.ipynb\r\n",
      "Day5_3.ipynb\r\n",
      "Day5_4.ipynb\r\n",
      "Day5_5.ipynb\r\n",
      "Day6_1.ipynb\r\n",
      "Day6_2.ipynb\r\n",
      "Day6_3.ipynb\r\n",
      "Day7_1.ipynb\r\n",
      "Day7_2.ipynb\r\n",
      "Day8_1.ipynb\r\n",
      "Day8_2.ipynb\r\n",
      "Day8_3.ipynb\r\n",
      "Day8_4.ipynb\r\n",
      "Day9_1.ipynb\r\n",
      "Day9_2.ipynb\r\n",
      "Day9_3.ipynb\r\n",
      "Ex10_1.ipynb\r\n",
      "Ex10_2.ipynb\r\n",
      "Ex10_3.ipynb\r\n",
      "Ex10_4.ipynb\r\n",
      "Ex10_5.ipynb\r\n",
      "Fibonacci.ipynb\r\n",
      "Histogram_drawing_user_input.ipynb\r\n",
      "LEGB.ipynb\r\n",
      "Markdown.ipynb\r\n",
      "Moon.ipynb\r\n",
      "Numeric & Container.ipynb\r\n",
      "Python-Epiphanies-All.ipynb\r\n",
      "Python_3_OOP_Part_1__Objects_and_types.ipynb\r\n",
      "Python_3_OOP_Part_2__Classes_and_members.ipynb\r\n",
      "Python_3_OOP_Part_3__Delegation__composition_and_inheritance.ipynb\r\n",
      "Python_3_OOP_Part_4__Polymorphism.ipynb\r\n",
      "Python_3_OOP_Part_5__Metaclasses.ipynb\r\n",
      "Python_3_OOP_Part_6__Abstract_Base_Classes.ipynb\r\n",
      "Python_DataType_Note_created_by_KyoYoonJung.ipynb\r\n",
      "Unpack Characteristics.ipynb\r\n",
      "Untitled.ipynb\r\n",
      "Untitled1.ipynb\r\n",
      "Untitled2.ipynb\r\n",
      "Untitled3.ipynb\r\n",
      "Untitled4.ipynb\r\n",
      "WhyPythonIsSlow.ipynb\r\n",
      "\u001b[34m__pycache__\u001b[m\u001b[m/\r\n",
      "advanced_function.ipynb\r\n",
      "decorator.ipynb\r\n",
      "histogram_drawing.ipynb\r\n",
      "moon.txt\r\n",
      "moon2.ipynb\r\n",
      "moon2.py\r\n",
      "open, with.ipynb\r\n",
      "sun.np.npy\r\n",
      "sun.npy\r\n",
      "주피터 노트북 extension 설치.ipynb\r\n"
     ]
    }
   ],
   "source": [
    "%ls"
   ]
  },
  {
   "cell_type": "code",
   "execution_count": 7,
   "metadata": {},
   "outputs": [],
   "source": [
    "c = np.load('sun.npy')"
   ]
  },
  {
   "cell_type": "code",
   "execution_count": 8,
   "metadata": {},
   "outputs": [
    {
     "data": {
      "text/plain": [
       "array([1, 2, 3])"
      ]
     },
     "execution_count": 8,
     "metadata": {},
     "output_type": "execute_result"
    }
   ],
   "source": [
    "c"
   ]
  },
  {
   "cell_type": "code",
   "execution_count": 9,
   "metadata": {},
   "outputs": [],
   "source": [
    "# python은 flat file만 불러올 수 있다. flat file은 사람이 읽을 수 있는 text 와 사람이 읽기 힘든 binary 파일로 나뉜다. "
   ]
  },
  {
   "cell_type": "code",
   "execution_count": 10,
   "metadata": {},
   "outputs": [],
   "source": [
    "# try -> except -> else -> finaly vs. With "
   ]
  },
  {
   "cell_type": "code",
   "execution_count": null,
   "metadata": {},
   "outputs": [],
   "source": []
  }
 ],
 "metadata": {
  "kernelspec": {
   "display_name": "Python 3",
   "language": "python",
   "name": "python3"
  },
  "language_info": {
   "codemirror_mode": {
    "name": "ipython",
    "version": 3
   },
   "file_extension": ".py",
   "mimetype": "text/x-python",
   "name": "python",
   "nbconvert_exporter": "python",
   "pygments_lexer": "ipython3",
   "version": "3.7.1"
  }
 },
 "nbformat": 4,
 "nbformat_minor": 2
}
