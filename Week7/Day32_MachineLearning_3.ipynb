{
 "cells": [
  {
   "cell_type": "code",
   "execution_count": 1,
   "metadata": {},
   "outputs": [
    {
     "data": {
      "text/plain": [
       "<generator object <genexpr> at 0x10ccbda98>"
      ]
     },
     "execution_count": 1,
     "metadata": {},
     "output_type": "execute_result"
    }
   ],
   "source": [
    "(x for x in range(10))"
   ]
  },
  {
   "cell_type": "code",
   "execution_count": 2,
   "metadata": {},
   "outputs": [
    {
     "name": "stdout",
     "output_type": "stream",
     "text": [
      "Collecting searchgrid\n",
      "  Downloading https://files.pythonhosted.org/packages/a2/cd/10e39018f721b77a8decbb3f6442e4c0f0ad6cab2999aec2cf9af3b3d1b4/searchgrid-0.2.0.tar.gz\n",
      "Requirement already satisfied: numpy in /Users/jung-kyoyoon/anaconda3/lib/python3.7/site-packages (from searchgrid) (1.16.2)\n",
      "Requirement already satisfied: scipy in /Users/jung-kyoyoon/anaconda3/lib/python3.7/site-packages (from searchgrid) (1.2.1)\n",
      "Requirement already satisfied: scikit-learn~=0.18 in /Users/jung-kyoyoon/anaconda3/lib/python3.7/site-packages (from searchgrid) (0.20.3)\n",
      "Building wheels for collected packages: searchgrid\n",
      "  Building wheel for searchgrid (setup.py) ... \u001b[?25ldone\n",
      "\u001b[?25h  Stored in directory: /Users/jung-kyoyoon/Library/Caches/pip/wheels/c0/9e/bc/d2faf5fa8b1a478cb8aa6bc255797b0e96d1131b2fcbe2810f\n",
      "Successfully built searchgrid\n",
      "Installing collected packages: searchgrid\n",
      "Successfully installed searchgrid-0.2.0\n"
     ]
    }
   ],
   "source": [
    "!pip install searchgrid"
   ]
  },
  {
   "cell_type": "code",
   "execution_count": null,
   "metadata": {},
   "outputs": [],
   "source": []
  }
 ],
 "metadata": {
  "kernelspec": {
   "display_name": "Python 3",
   "language": "python",
   "name": "python3"
  },
  "language_info": {
   "codemirror_mode": {
    "name": "ipython",
    "version": 3
   },
   "file_extension": ".py",
   "mimetype": "text/x-python",
   "name": "python",
   "nbconvert_exporter": "python",
   "pygments_lexer": "ipython3",
   "version": "3.7.3"
  },
  "varInspector": {
   "cols": {
    "lenName": 16,
    "lenType": 16,
    "lenVar": 40
   },
   "kernels_config": {
    "python": {
     "delete_cmd_postfix": "",
     "delete_cmd_prefix": "del ",
     "library": "var_list.py",
     "varRefreshCmd": "print(var_dic_list())"
    },
    "r": {
     "delete_cmd_postfix": ") ",
     "delete_cmd_prefix": "rm(",
     "library": "var_list.r",
     "varRefreshCmd": "cat(var_dic_list()) "
    }
   },
   "types_to_exclude": [
    "module",
    "function",
    "builtin_function_or_method",
    "instance",
    "_Feature"
   ],
   "window_display": false
  }
 },
 "nbformat": 4,
 "nbformat_minor": 2
}
