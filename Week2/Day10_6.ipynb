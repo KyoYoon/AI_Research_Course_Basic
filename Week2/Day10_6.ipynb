{
 "cells": [
  {
   "cell_type": "code",
   "execution_count": 7,
   "metadata": {},
   "outputs": [],
   "source": [
    "# __new__ 는 인스턴스 새로 만들 때 호출되며, 반드시 instance 를 리턴한다. \n",
    "# 인스턴스를 초기화할 때 __init__ 가 호출되며 __init__는 return 기능이 없어도 된다. "
   ]
  },
  {
   "cell_type": "code",
   "execution_count": 8,
   "metadata": {},
   "outputs": [],
   "source": [
    "# meta class를 통해 __new__ 를 새로 만들 수 있다. class 자체의 기능을 바꾼 것이다. "
   ]
  },
  {
   "cell_type": "code",
   "execution_count": 9,
   "metadata": {},
   "outputs": [],
   "source": [
    "# meta class 없어도 __new__ 기능 수정가능하다. "
   ]
  },
  {
   "cell_type": "code",
   "execution_count": 10,
   "metadata": {},
   "outputs": [],
   "source": [
    "class MyClass():\n",
    "    def __new__(cls, *args, **kwds): # (<클래스명>, ...)\n",
    "        obj = super().__new__(cls, *args, **kwds)\n",
    "        # put your code here => 기능 변경하는 부분 \n",
    "        return obj"
   ]
  },
  {
   "cell_type": "code",
   "execution_count": 11,
   "metadata": {},
   "outputs": [],
   "source": [
    "# class 가 __new__ 호출 후 __new__ 가 __init__ 를 호출한다. -> hooking "
   ]
  },
  {
   "cell_type": "code",
   "execution_count": 12,
   "metadata": {},
   "outputs": [],
   "source": [
    "# isinstance vs insubclass"
   ]
  },
  {
   "cell_type": "code",
   "execution_count": null,
   "metadata": {},
   "outputs": [],
   "source": []
  }
 ],
 "metadata": {
  "kernelspec": {
   "display_name": "Python 3",
   "language": "python",
   "name": "python3"
  },
  "language_info": {
   "codemirror_mode": {
    "name": "ipython",
    "version": 3
   },
   "file_extension": ".py",
   "mimetype": "text/x-python",
   "name": "python",
   "nbconvert_exporter": "python",
   "pygments_lexer": "ipython3",
   "version": "3.7.1"
  }
 },
 "nbformat": 4,
 "nbformat_minor": 2
}
