{
 "cells": [
  {
   "cell_type": "markdown",
   "metadata": {},
   "source": [
    "### Abstract Class "
   ]
  },
  {
   "cell_type": "code",
   "execution_count": 3,
   "metadata": {},
   "outputs": [],
   "source": [
    "from abc import ABCMeta # ABCMeta 는 Abstract Class 이며 정의만 하고 구체적 구현이 없으니 니가 알아서 구현해라. \n",
    "\n",
    "class MyABC(metaclass=ABCMeta): # 상속받는 class 가 직접 구현하기 때문에 구현할 필요가 없음 \n",
    "    pass\n",
    "\n",
    "MyABC.register(tuple)\n",
    "\n",
    "# assert => true 면 에러가 안 나고 false 면 에러가 남 \n",
    "assert issubclass(tuple, MyABC) # issubclass MyABC 의 상속받는 애인지 체크 \n",
    "assert isinstance((), MyABC)"
   ]
  },
  {
   "cell_type": "code",
   "execution_count": 5,
   "metadata": {},
   "outputs": [
    {
     "data": {
      "text/plain": [
       "False"
      ]
     },
     "execution_count": 5,
     "metadata": {},
     "output_type": "execute_result"
    }
   ],
   "source": [
    "d = {'a':1}\n",
    "isinstance(d,MyABC) # d 가 dictionary 이므로 false 리턴 "
   ]
  },
  {
   "cell_type": "code",
   "execution_count": null,
   "metadata": {},
   "outputs": [],
   "source": []
  }
 ],
 "metadata": {
  "kernelspec": {
   "display_name": "Python 3",
   "language": "python",
   "name": "python3"
  },
  "language_info": {
   "codemirror_mode": {
    "name": "ipython",
    "version": 3
   },
   "file_extension": ".py",
   "mimetype": "text/x-python",
   "name": "python",
   "nbconvert_exporter": "python",
   "pygments_lexer": "ipython3",
   "version": "3.7.1"
  }
 },
 "nbformat": 4,
 "nbformat_minor": 2
}
